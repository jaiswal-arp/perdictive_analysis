{
 "cells": [
  {
   "cell_type": "code",
   "execution_count": 1,
   "metadata": {},
   "outputs": [
    {
     "name": "stdout",
     "output_type": "stream",
     "text": [
      "/Users/arpitajaiswal/Downloads/SnowPark/snowpark-python-demos/tpcds-customer-lifetime-value\n"
     ]
    }
   ],
   "source": [
    "# Base dir for this code\n",
    "import os\n",
    "base_dir = os.getcwd()\n",
    "print(base_dir)"
   ]
  },
  {
   "cell_type": "code",
   "execution_count": 2,
   "metadata": {},
   "outputs": [],
   "source": [
    "import json\n",
    "import pandas as pd\n",
    "\n",
    "from snowflake.snowpark import functions as F\n",
    "from snowflake.snowpark import version as v\n",
    "from snowflake.snowpark.session import Session\n",
    "\n",
    "from snowflake.ml.modeling.xgboost import XGBRegressor\n",
    "from snowflake.ml.modeling.preprocessing import KBinsDiscretizer, OneHotEncoder\n",
    "from snowflake.ml.modeling.impute import SimpleImputer"
   ]
  },
  {
   "cell_type": "code",
   "execution_count": 3,
   "metadata": {},
   "outputs": [],
   "source": [
    "import warnings\n",
    "warnings.filterwarnings(\"ignore\")"
   ]
  },
  {
   "cell_type": "markdown",
   "metadata": {},
   "source": [
    "# 1.0 Snowflake Setup"
   ]
  },
  {
   "cell_type": "code",
   "execution_count": 4,
   "metadata": {},
   "outputs": [],
   "source": [
    "# Ensure that your credentials are stored in creds.json\n",
    "with open('/Users/arpitajaiswal/Downloads/SnowPark/snowpark-python-demos/tpcds-customer-lifetime-value/creds.json') as f:\n",
    "    data = json.load(f)\n",
    "    USERNAME = data['user']\n",
    "    PASSWORD = data['password']\n",
    "    SF_ACCOUNT = data['account']\n",
    "    SF_WH = data['warehouse']\n",
    "\n",
    "CONNECTION_PARAMETERS = {\n",
    "   \"account\": SF_ACCOUNT,\n",
    "   \"user\": USERNAME,\n",
    "   \"password\": PASSWORD,\n",
    "}\n",
    "\n",
    "session = Session.builder.configs(CONNECTION_PARAMETERS).create()"
   ]
  },
  {
   "cell_type": "markdown",
   "metadata": {},
   "source": [
    "#### Ensure that TPC-DS dataset is available in your environment."
   ]
  },
  {
   "cell_type": "code",
   "execution_count": 5,
   "metadata": {},
   "outputs": [],
   "source": [
    "session.sql('CREATE DATABASE IF NOT EXISTS tpcds_xgboost').collect()\n",
    "session.sql('CREATE SCHEMA IF NOT EXISTS tpcds_xgboost.demo').collect()\n",
    "session.sql(\"create or replace warehouse FE_AND_INFERENCE_WH with warehouse_size='3X-LARGE'\").collect()\n",
    "session.sql(\"create or replace warehouse snowpark_opt_wh with warehouse_size = 'MEDIUM' warehouse_type = 'SNOWPARK-OPTIMIZED'\").collect()\n",
    "session.sql(\"alter warehouse snowpark_opt_wh set max_concurrency_level = 1\").collect()\n",
    "session.sql(\"CREATE OR REPLACE STAGE TPCDS_XGBOOST.DEMO.ML_MODELS\").collect()\n",
    "session.use_warehouse('FE_AND_INFERENCE_WH')\n",
    "session.use_database('tpcds_xgboost')\n",
    "session.use_schema('demo')"
   ]
  },
  {
   "cell_type": "markdown",
   "metadata": {},
   "source": [
    "Select either 100 or 10 for the TPC-DS Dataset size to use below. See (https://docs.snowflake.com/en/user-guide/sample-data-tpcds.html)[here] for more information If you choose 100, I recommend >= 3XL warehouse. "
   ]
  },
  {
   "cell_type": "code",
   "execution_count": 7,
   "metadata": {},
   "outputs": [],
   "source": [
    "TPCDS_SIZE_PARAM = 10\n",
    "SNOWFLAKE_SAMPLE_DB = 'SNOWFLAKE_SAMPLE_DATA' # Name of Snowflake Sample Database might be different...\n",
    "\n",
    "\n",
    "if TPCDS_SIZE_PARAM == 10:\n",
    "    TPCDS_SCHEMA = 'TPCDS_SF10TCL'\n",
    "else:\n",
    "    raise ValueError(\"Invalid TPCDS_SIZE_PARAM selection\")\n",
    "    \n",
    "store_sales = session.table(f'{SNOWFLAKE_SAMPLE_DB}.{TPCDS_SCHEMA}.store_sales')\n",
    "catalog_sales = session.table(f'{SNOWFLAKE_SAMPLE_DB}.{TPCDS_SCHEMA}.catalog_sales') \n",
    "web_sales = session.table(f'{SNOWFLAKE_SAMPLE_DB}.{TPCDS_SCHEMA}.web_sales') \n",
    "date = session.table(f'{SNOWFLAKE_SAMPLE_DB}.{TPCDS_SCHEMA}.date_dim')\n",
    "dim_stores = session.table(f'{SNOWFLAKE_SAMPLE_DB}.{TPCDS_SCHEMA}.store')\n",
    "customer = session.table(f'{SNOWFLAKE_SAMPLE_DB}.{TPCDS_SCHEMA}.customer')\n",
    "address = session.table(f'{SNOWFLAKE_SAMPLE_DB}.{TPCDS_SCHEMA}.customer_address')\n",
    "demo = session.table(f'{SNOWFLAKE_SAMPLE_DB}.{TPCDS_SCHEMA}.customer_demographics')"
   ]
  },
  {
   "cell_type": "markdown",
   "metadata": {},
   "source": [
    "# 2.0 Data Engineering\n",
    "We will aggregate sales by customer across all channels(web, store, catalogue) and join that to customer demographic data. "
   ]
  },
  {
   "cell_type": "code",
   "execution_count": 8,
   "metadata": {},
   "outputs": [],
   "source": [
    "store_sales_agged = store_sales.group_by('ss_customer_sk').agg(F.sum('ss_sales_price').as_('total_sales'))\n",
    "web_sales_agged = web_sales.group_by('ws_bill_customer_sk').agg(F.sum('ws_sales_price').as_('total_sales'))\n",
    "catalog_sales_agged = catalog_sales.group_by('cs_bill_customer_sk').agg(F.sum('cs_sales_price').as_('total_sales'))\n",
    "store_sales_agged = store_sales_agged.rename('ss_customer_sk', 'customer_sk')\n",
    "web_sales_agged = web_sales_agged.rename('ws_bill_customer_sk', 'customer_sk')\n",
    "catalog_sales_agged = catalog_sales_agged.rename('cs_bill_customer_sk', 'customer_sk')"
   ]
  },
  {
   "cell_type": "code",
   "execution_count": 9,
   "metadata": {},
   "outputs": [],
   "source": [
    "total_sales = store_sales_agged.union_all(web_sales_agged)\n",
    "total_sales = total_sales.union_all(catalog_sales_agged)"
   ]
  },
  {
   "cell_type": "code",
   "execution_count": 10,
   "metadata": {},
   "outputs": [],
   "source": [
    "total_sales = total_sales.group_by('customer_sk').agg(F.sum('total_sales').as_('total_sales'))"
   ]
  },
  {
   "cell_type": "code",
   "execution_count": 11,
   "metadata": {},
   "outputs": [],
   "source": [
    "customer = customer.select('c_customer_sk','c_current_hdemo_sk', 'c_current_addr_sk', 'c_customer_id', 'c_birth_year')"
   ]
  },
  {
   "cell_type": "code",
   "execution_count": 12,
   "metadata": {},
   "outputs": [],
   "source": [
    "customer = customer.join(address.select('ca_address_sk', 'ca_zip'), customer['c_current_addr_sk'] == address['ca_address_sk'] )\n",
    "customer = customer.join(demo.select('cd_demo_sk', 'cd_gender', 'cd_marital_status', 'cd_credit_rating', 'cd_education_status', 'cd_dep_count'),\n",
    "                                customer['c_current_hdemo_sk'] == demo['cd_demo_sk'] )\n",
    "customer = customer.rename('c_customer_sk', 'customer_sk')"
   ]
  },
  {
   "cell_type": "code",
   "execution_count": 13,
   "metadata": {},
   "outputs": [
    {
     "data": {
      "text/html": [
       "<div>\n",
       "<style scoped>\n",
       "    .dataframe tbody tr th:only-of-type {\n",
       "        vertical-align: middle;\n",
       "    }\n",
       "\n",
       "    .dataframe tbody tr th {\n",
       "        vertical-align: top;\n",
       "    }\n",
       "\n",
       "    .dataframe thead th {\n",
       "        text-align: right;\n",
       "    }\n",
       "</style>\n",
       "<table border=\"1\" class=\"dataframe\">\n",
       "  <thead>\n",
       "    <tr style=\"text-align: right;\">\n",
       "      <th></th>\n",
       "      <th>CUSTOMER_SK</th>\n",
       "      <th>C_CURRENT_HDEMO_SK</th>\n",
       "      <th>C_CURRENT_ADDR_SK</th>\n",
       "      <th>C_CUSTOMER_ID</th>\n",
       "      <th>C_BIRTH_YEAR</th>\n",
       "      <th>CA_ADDRESS_SK</th>\n",
       "      <th>CA_ZIP</th>\n",
       "      <th>CD_DEMO_SK</th>\n",
       "      <th>CD_GENDER</th>\n",
       "      <th>CD_MARITAL_STATUS</th>\n",
       "      <th>CD_CREDIT_RATING</th>\n",
       "      <th>CD_EDUCATION_STATUS</th>\n",
       "      <th>CD_DEP_COUNT</th>\n",
       "    </tr>\n",
       "  </thead>\n",
       "  <tbody>\n",
       "    <tr>\n",
       "      <th>0</th>\n",
       "      <td>47565134</td>\n",
       "      <td>2903</td>\n",
       "      <td>11432972</td>\n",
       "      <td>AAAAAAAAOEJMFNCA</td>\n",
       "      <td>1990</td>\n",
       "      <td>11432972</td>\n",
       "      <td>68371</td>\n",
       "      <td>2903</td>\n",
       "      <td>M</td>\n",
       "      <td>S</td>\n",
       "      <td>High Risk</td>\n",
       "      <td>2 yr Degree</td>\n",
       "      <td>0</td>\n",
       "    </tr>\n",
       "    <tr>\n",
       "      <th>1</th>\n",
       "      <td>47565135</td>\n",
       "      <td>2457</td>\n",
       "      <td>29478386</td>\n",
       "      <td>AAAAAAAAPEJMFNCA</td>\n",
       "      <td>1966</td>\n",
       "      <td>29478386</td>\n",
       "      <td>70499</td>\n",
       "      <td>2457</td>\n",
       "      <td>M</td>\n",
       "      <td>W</td>\n",
       "      <td>Low Risk</td>\n",
       "      <td>Primary</td>\n",
       "      <td>0</td>\n",
       "    </tr>\n",
       "    <tr>\n",
       "      <th>2</th>\n",
       "      <td>47565136</td>\n",
       "      <td>450</td>\n",
       "      <td>23602579</td>\n",
       "      <td>AAAAAAAAAFJMFNCA</td>\n",
       "      <td>1934</td>\n",
       "      <td>23602579</td>\n",
       "      <td>11952</td>\n",
       "      <td>450</td>\n",
       "      <td>F</td>\n",
       "      <td>U</td>\n",
       "      <td>Good</td>\n",
       "      <td>College</td>\n",
       "      <td>0</td>\n",
       "    </tr>\n",
       "    <tr>\n",
       "      <th>3</th>\n",
       "      <td>47565137</td>\n",
       "      <td>1315</td>\n",
       "      <td>616770</td>\n",
       "      <td>AAAAAAAABFJMFNCA</td>\n",
       "      <td>1969</td>\n",
       "      <td>616770</td>\n",
       "      <td>54593</td>\n",
       "      <td>1315</td>\n",
       "      <td>M</td>\n",
       "      <td>D</td>\n",
       "      <td>Good</td>\n",
       "      <td>Advanced Degree</td>\n",
       "      <td>0</td>\n",
       "    </tr>\n",
       "    <tr>\n",
       "      <th>4</th>\n",
       "      <td>47565138</td>\n",
       "      <td>2064</td>\n",
       "      <td>3437061</td>\n",
       "      <td>AAAAAAAACFJMFNCA</td>\n",
       "      <td>1974</td>\n",
       "      <td>3437061</td>\n",
       "      <td>99310</td>\n",
       "      <td>2064</td>\n",
       "      <td>F</td>\n",
       "      <td>S</td>\n",
       "      <td>Low Risk</td>\n",
       "      <td>2 yr Degree</td>\n",
       "      <td>0</td>\n",
       "    </tr>\n",
       "  </tbody>\n",
       "</table>\n",
       "</div>"
      ],
      "text/plain": [
       "   CUSTOMER_SK  C_CURRENT_HDEMO_SK  C_CURRENT_ADDR_SK     C_CUSTOMER_ID  \\\n",
       "0     47565134                2903           11432972  AAAAAAAAOEJMFNCA   \n",
       "1     47565135                2457           29478386  AAAAAAAAPEJMFNCA   \n",
       "2     47565136                 450           23602579  AAAAAAAAAFJMFNCA   \n",
       "3     47565137                1315             616770  AAAAAAAABFJMFNCA   \n",
       "4     47565138                2064            3437061  AAAAAAAACFJMFNCA   \n",
       "\n",
       "   C_BIRTH_YEAR  CA_ADDRESS_SK CA_ZIP  CD_DEMO_SK CD_GENDER CD_MARITAL_STATUS  \\\n",
       "0          1990       11432972  68371        2903         M                 S   \n",
       "1          1966       29478386  70499        2457         M                 W   \n",
       "2          1934       23602579  11952         450         F                 U   \n",
       "3          1969         616770  54593        1315         M                 D   \n",
       "4          1974        3437061  99310        2064         F                 S   \n",
       "\n",
       "  CD_CREDIT_RATING CD_EDUCATION_STATUS  CD_DEP_COUNT  \n",
       "0        High Risk         2 yr Degree             0  \n",
       "1         Low Risk             Primary             0  \n",
       "2             Good             College             0  \n",
       "3             Good     Advanced Degree             0  \n",
       "4         Low Risk         2 yr Degree             0  "
      ]
     },
     "execution_count": 13,
     "metadata": {},
     "output_type": "execute_result"
    }
   ],
   "source": [
    "customer.limit(5).to_pandas()"
   ]
  },
  {
   "cell_type": "code",
   "execution_count": 14,
   "metadata": {},
   "outputs": [],
   "source": [
    "final_df = total_sales.join(customer, on='customer_sk')"
   ]
  },
  {
   "cell_type": "code",
   "execution_count": 15,
   "metadata": {},
   "outputs": [
    {
     "data": {
      "text/plain": [
       "62726989"
      ]
     },
     "execution_count": 15,
     "metadata": {},
     "output_type": "execute_result"
    }
   ],
   "source": [
    "# Size of the final DF is around 95 Million.\n",
    "final_df.count()"
   ]
  },
  {
   "cell_type": "code",
   "execution_count": 229,
   "metadata": {},
   "outputs": [],
   "source": [
    "session.use_database('tpcds_xgboost')\n",
    "session.use_schema('demo')\n",
    "final_df.write.mode('overwrite').save_as_table('feature_store')"
   ]
  },
  {
   "cell_type": "markdown",
   "metadata": {},
   "source": [
    "# 3.0 Feature Engineering"
   ]
  },
  {
   "cell_type": "code",
   "execution_count": 230,
   "metadata": {},
   "outputs": [],
   "source": [
    "session.use_warehouse('snowpark_opt_wh')\n",
    "session.use_database('tpcds_xgboost')\n",
    "session.use_schema('demo')"
   ]
  },
  {
   "cell_type": "code",
   "execution_count": 231,
   "metadata": {},
   "outputs": [],
   "source": [
    "snowdf = session.table(\"feature_store\")\n",
    "snowdf = snowdf.drop(['CA_ZIP','CUSTOMER_SK', 'C_CURRENT_HDEMO_SK', 'C_CURRENT_ADDR_SK', 'C_CUSTOMER_ID', 'CA_ADDRESS_SK', 'CD_DEMO_SK'])"
   ]
  },
  {
   "cell_type": "code",
   "execution_count": 232,
   "metadata": {},
   "outputs": [
    {
     "data": {
      "text/html": [
       "<div>\n",
       "<style scoped>\n",
       "    .dataframe tbody tr th:only-of-type {\n",
       "        vertical-align: middle;\n",
       "    }\n",
       "\n",
       "    .dataframe tbody tr th {\n",
       "        vertical-align: top;\n",
       "    }\n",
       "\n",
       "    .dataframe thead th {\n",
       "        text-align: right;\n",
       "    }\n",
       "</style>\n",
       "<table border=\"1\" class=\"dataframe\">\n",
       "  <thead>\n",
       "    <tr style=\"text-align: right;\">\n",
       "      <th></th>\n",
       "      <th>TOTAL_SALES</th>\n",
       "      <th>C_BIRTH_YEAR</th>\n",
       "      <th>CD_GENDER</th>\n",
       "      <th>CD_MARITAL_STATUS</th>\n",
       "      <th>CD_CREDIT_RATING</th>\n",
       "      <th>CD_EDUCATION_STATUS</th>\n",
       "      <th>CD_DEP_COUNT</th>\n",
       "    </tr>\n",
       "  </thead>\n",
       "  <tbody>\n",
       "    <tr>\n",
       "      <th>0</th>\n",
       "      <td>30765.81</td>\n",
       "      <td>1964</td>\n",
       "      <td>F</td>\n",
       "      <td>S</td>\n",
       "      <td>Good</td>\n",
       "      <td>Primary</td>\n",
       "      <td>0</td>\n",
       "    </tr>\n",
       "    <tr>\n",
       "      <th>1</th>\n",
       "      <td>28942.89</td>\n",
       "      <td>1992</td>\n",
       "      <td>F</td>\n",
       "      <td>S</td>\n",
       "      <td>Good</td>\n",
       "      <td>Primary</td>\n",
       "      <td>0</td>\n",
       "    </tr>\n",
       "    <tr>\n",
       "      <th>2</th>\n",
       "      <td>33147.26</td>\n",
       "      <td>1955</td>\n",
       "      <td>F</td>\n",
       "      <td>S</td>\n",
       "      <td>Good</td>\n",
       "      <td>Primary</td>\n",
       "      <td>0</td>\n",
       "    </tr>\n",
       "    <tr>\n",
       "      <th>3</th>\n",
       "      <td>32551.63</td>\n",
       "      <td>1963</td>\n",
       "      <td>F</td>\n",
       "      <td>S</td>\n",
       "      <td>Good</td>\n",
       "      <td>Primary</td>\n",
       "      <td>0</td>\n",
       "    </tr>\n",
       "    <tr>\n",
       "      <th>4</th>\n",
       "      <td>28825.17</td>\n",
       "      <td>1960</td>\n",
       "      <td>F</td>\n",
       "      <td>S</td>\n",
       "      <td>Good</td>\n",
       "      <td>Primary</td>\n",
       "      <td>0</td>\n",
       "    </tr>\n",
       "  </tbody>\n",
       "</table>\n",
       "</div>"
      ],
      "text/plain": [
       "   TOTAL_SALES  C_BIRTH_YEAR CD_GENDER CD_MARITAL_STATUS CD_CREDIT_RATING  \\\n",
       "0     30765.81          1964         F                 S             Good   \n",
       "1     28942.89          1992         F                 S             Good   \n",
       "2     33147.26          1955         F                 S             Good   \n",
       "3     32551.63          1963         F                 S             Good   \n",
       "4     28825.17          1960         F                 S             Good   \n",
       "\n",
       "  CD_EDUCATION_STATUS  CD_DEP_COUNT  \n",
       "0             Primary             0  \n",
       "1             Primary             0  \n",
       "2             Primary             0  \n",
       "3             Primary             0  \n",
       "4             Primary             0  "
      ]
     },
     "execution_count": 232,
     "metadata": {},
     "output_type": "execute_result"
    }
   ],
   "source": [
    "snowdf.limit(5).to_pandas()"
   ]
  },
  {
   "cell_type": "code",
   "execution_count": 233,
   "metadata": {},
   "outputs": [],
   "source": [
    "cat_cols = ['CD_GENDER', 'CD_MARITAL_STATUS', 'CD_CREDIT_RATING', 'CD_EDUCATION_STATUS']\n",
    "num_cols = ['C_BIRTH_YEAR', 'CD_DEP_COUNT']"
   ]
  },
  {
   "cell_type": "markdown",
   "metadata": {},
   "source": [
    "### 3.1 Missing Value Imputation\n",
    "\n",
    "We can use the SimpleImputer in snowflake.ml.preprocessing to replace missing values with the most frequent.\n",
    "\n",
    "```python\n",
    "# SimpleImputer in snowflake.ml.preprocessing\n",
    "from snowflake.ml.modeling.impute import SimpleImputer\n",
    "my_imputer = sfml.preprocessing.SimpleImputer(input_cols=['your_column'],\n",
    "                                output_cols=['your_column'],\n",
    "                                strategy='constant',\n",
    "                                fill_value='OTHER')\n",
    "my_imputer.fit(my_sdf)\n",
    "my_sdf = my_imputer.transform(my_sdf)\n",
    "```"
   ]
  },
  {
   "cell_type": "code",
   "execution_count": 234,
   "metadata": {},
   "outputs": [
    {
     "name": "stderr",
     "output_type": "stream",
     "text": [
      "Input value type doesn't match the target column data type, this replacement was skipped. Column Name: \"C_BIRTH_YEAR\", Type: LongType(), Input Value: 1958.0, Type: <class 'float'>\n",
      "Input value type doesn't match the target column data type, this replacement was skipped. Column Name: \"CD_DEP_COUNT\", Type: LongType(), Input Value: 0.0, Type: <class 'float'>\n"
     ]
    }
   ],
   "source": [
    "# Imputation of Numeric Cols\n",
    "my_imputer = SimpleImputer(input_cols= num_cols,\n",
    "                           output_cols= num_cols,\n",
    "                           strategy='median')\n",
    "sdf_prepared = my_imputer.fit(snowdf).transform(snowdf)"
   ]
  },
  {
   "cell_type": "markdown",
   "metadata": {},
   "source": [
    "### 3.2 One-Hot Encoding of Categorical Cols"
   ]
  },
  {
   "cell_type": "code",
   "execution_count": 235,
   "metadata": {},
   "outputs": [],
   "source": [
    "# OHE of Categorical Cols\n",
    "my_ohe_encoder = OneHotEncoder(input_cols=cat_cols, output_cols=cat_cols, drop_input_cols=True)\n",
    "sdf_prepared = my_ohe_encoder.fit(sdf_prepared).transform(sdf_prepared)"
   ]
  },
  {
   "cell_type": "code",
   "execution_count": 236,
   "metadata": {},
   "outputs": [
    {
     "data": {
      "text/html": [
       "<div>\n",
       "<style scoped>\n",
       "    .dataframe tbody tr th:only-of-type {\n",
       "        vertical-align: middle;\n",
       "    }\n",
       "\n",
       "    .dataframe tbody tr th {\n",
       "        vertical-align: top;\n",
       "    }\n",
       "\n",
       "    .dataframe thead th {\n",
       "        text-align: right;\n",
       "    }\n",
       "</style>\n",
       "<table border=\"1\" class=\"dataframe\">\n",
       "  <thead>\n",
       "    <tr style=\"text-align: right;\">\n",
       "      <th></th>\n",
       "      <th>CD_GENDER_F</th>\n",
       "      <th>CD_GENDER_M</th>\n",
       "      <th>CD_MARITAL_STATUS_D</th>\n",
       "      <th>CD_MARITAL_STATUS_M</th>\n",
       "      <th>CD_MARITAL_STATUS_S</th>\n",
       "      <th>CD_MARITAL_STATUS_U</th>\n",
       "      <th>CD_MARITAL_STATUS_W</th>\n",
       "      <th>CD_CREDIT_RATING_Good</th>\n",
       "      <th>CD_CREDIT_RATING_High Risk</th>\n",
       "      <th>CD_CREDIT_RATING_Low Risk</th>\n",
       "      <th>...</th>\n",
       "      <th>CD_EDUCATION_STATUS_2 yr Degree</th>\n",
       "      <th>CD_EDUCATION_STATUS_4 yr Degree</th>\n",
       "      <th>CD_EDUCATION_STATUS_Advanced Degree</th>\n",
       "      <th>CD_EDUCATION_STATUS_College</th>\n",
       "      <th>CD_EDUCATION_STATUS_Primary</th>\n",
       "      <th>CD_EDUCATION_STATUS_Secondary</th>\n",
       "      <th>CD_EDUCATION_STATUS_Unknown</th>\n",
       "      <th>C_BIRTH_YEAR</th>\n",
       "      <th>CD_DEP_COUNT</th>\n",
       "      <th>TOTAL_SALES</th>\n",
       "    </tr>\n",
       "  </thead>\n",
       "  <tbody>\n",
       "    <tr>\n",
       "      <th>0</th>\n",
       "      <td>1.0</td>\n",
       "      <td>0.0</td>\n",
       "      <td>0.0</td>\n",
       "      <td>0.0</td>\n",
       "      <td>1.0</td>\n",
       "      <td>0.0</td>\n",
       "      <td>0.0</td>\n",
       "      <td>1.0</td>\n",
       "      <td>0.0</td>\n",
       "      <td>0.0</td>\n",
       "      <td>...</td>\n",
       "      <td>0.0</td>\n",
       "      <td>0.0</td>\n",
       "      <td>0.0</td>\n",
       "      <td>0.0</td>\n",
       "      <td>1.0</td>\n",
       "      <td>0.0</td>\n",
       "      <td>0.0</td>\n",
       "      <td>1964</td>\n",
       "      <td>0</td>\n",
       "      <td>30765.81</td>\n",
       "    </tr>\n",
       "    <tr>\n",
       "      <th>1</th>\n",
       "      <td>1.0</td>\n",
       "      <td>0.0</td>\n",
       "      <td>0.0</td>\n",
       "      <td>0.0</td>\n",
       "      <td>1.0</td>\n",
       "      <td>0.0</td>\n",
       "      <td>0.0</td>\n",
       "      <td>1.0</td>\n",
       "      <td>0.0</td>\n",
       "      <td>0.0</td>\n",
       "      <td>...</td>\n",
       "      <td>0.0</td>\n",
       "      <td>0.0</td>\n",
       "      <td>0.0</td>\n",
       "      <td>0.0</td>\n",
       "      <td>1.0</td>\n",
       "      <td>0.0</td>\n",
       "      <td>0.0</td>\n",
       "      <td>1992</td>\n",
       "      <td>0</td>\n",
       "      <td>28942.89</td>\n",
       "    </tr>\n",
       "    <tr>\n",
       "      <th>2</th>\n",
       "      <td>1.0</td>\n",
       "      <td>0.0</td>\n",
       "      <td>0.0</td>\n",
       "      <td>0.0</td>\n",
       "      <td>1.0</td>\n",
       "      <td>0.0</td>\n",
       "      <td>0.0</td>\n",
       "      <td>1.0</td>\n",
       "      <td>0.0</td>\n",
       "      <td>0.0</td>\n",
       "      <td>...</td>\n",
       "      <td>0.0</td>\n",
       "      <td>0.0</td>\n",
       "      <td>0.0</td>\n",
       "      <td>0.0</td>\n",
       "      <td>1.0</td>\n",
       "      <td>0.0</td>\n",
       "      <td>0.0</td>\n",
       "      <td>1955</td>\n",
       "      <td>0</td>\n",
       "      <td>33147.26</td>\n",
       "    </tr>\n",
       "    <tr>\n",
       "      <th>3</th>\n",
       "      <td>1.0</td>\n",
       "      <td>0.0</td>\n",
       "      <td>0.0</td>\n",
       "      <td>0.0</td>\n",
       "      <td>1.0</td>\n",
       "      <td>0.0</td>\n",
       "      <td>0.0</td>\n",
       "      <td>1.0</td>\n",
       "      <td>0.0</td>\n",
       "      <td>0.0</td>\n",
       "      <td>...</td>\n",
       "      <td>0.0</td>\n",
       "      <td>0.0</td>\n",
       "      <td>0.0</td>\n",
       "      <td>0.0</td>\n",
       "      <td>1.0</td>\n",
       "      <td>0.0</td>\n",
       "      <td>0.0</td>\n",
       "      <td>1963</td>\n",
       "      <td>0</td>\n",
       "      <td>32551.63</td>\n",
       "    </tr>\n",
       "    <tr>\n",
       "      <th>4</th>\n",
       "      <td>1.0</td>\n",
       "      <td>0.0</td>\n",
       "      <td>0.0</td>\n",
       "      <td>0.0</td>\n",
       "      <td>1.0</td>\n",
       "      <td>0.0</td>\n",
       "      <td>0.0</td>\n",
       "      <td>1.0</td>\n",
       "      <td>0.0</td>\n",
       "      <td>0.0</td>\n",
       "      <td>...</td>\n",
       "      <td>0.0</td>\n",
       "      <td>0.0</td>\n",
       "      <td>0.0</td>\n",
       "      <td>0.0</td>\n",
       "      <td>1.0</td>\n",
       "      <td>0.0</td>\n",
       "      <td>0.0</td>\n",
       "      <td>1960</td>\n",
       "      <td>0</td>\n",
       "      <td>28825.17</td>\n",
       "    </tr>\n",
       "  </tbody>\n",
       "</table>\n",
       "<p>5 rows × 21 columns</p>\n",
       "</div>"
      ],
      "text/plain": [
       "   CD_GENDER_F  CD_GENDER_M  CD_MARITAL_STATUS_D  CD_MARITAL_STATUS_M  \\\n",
       "0          1.0          0.0                  0.0                  0.0   \n",
       "1          1.0          0.0                  0.0                  0.0   \n",
       "2          1.0          0.0                  0.0                  0.0   \n",
       "3          1.0          0.0                  0.0                  0.0   \n",
       "4          1.0          0.0                  0.0                  0.0   \n",
       "\n",
       "   CD_MARITAL_STATUS_S  CD_MARITAL_STATUS_U  CD_MARITAL_STATUS_W  \\\n",
       "0                  1.0                  0.0                  0.0   \n",
       "1                  1.0                  0.0                  0.0   \n",
       "2                  1.0                  0.0                  0.0   \n",
       "3                  1.0                  0.0                  0.0   \n",
       "4                  1.0                  0.0                  0.0   \n",
       "\n",
       "   CD_CREDIT_RATING_Good  CD_CREDIT_RATING_High Risk  \\\n",
       "0                    1.0                         0.0   \n",
       "1                    1.0                         0.0   \n",
       "2                    1.0                         0.0   \n",
       "3                    1.0                         0.0   \n",
       "4                    1.0                         0.0   \n",
       "\n",
       "   CD_CREDIT_RATING_Low Risk  ...  CD_EDUCATION_STATUS_2 yr Degree  \\\n",
       "0                        0.0  ...                              0.0   \n",
       "1                        0.0  ...                              0.0   \n",
       "2                        0.0  ...                              0.0   \n",
       "3                        0.0  ...                              0.0   \n",
       "4                        0.0  ...                              0.0   \n",
       "\n",
       "   CD_EDUCATION_STATUS_4 yr Degree  CD_EDUCATION_STATUS_Advanced Degree  \\\n",
       "0                              0.0                                  0.0   \n",
       "1                              0.0                                  0.0   \n",
       "2                              0.0                                  0.0   \n",
       "3                              0.0                                  0.0   \n",
       "4                              0.0                                  0.0   \n",
       "\n",
       "   CD_EDUCATION_STATUS_College  CD_EDUCATION_STATUS_Primary  \\\n",
       "0                          0.0                          1.0   \n",
       "1                          0.0                          1.0   \n",
       "2                          0.0                          1.0   \n",
       "3                          0.0                          1.0   \n",
       "4                          0.0                          1.0   \n",
       "\n",
       "   CD_EDUCATION_STATUS_Secondary  CD_EDUCATION_STATUS_Unknown  C_BIRTH_YEAR  \\\n",
       "0                            0.0                          0.0          1964   \n",
       "1                            0.0                          0.0          1992   \n",
       "2                            0.0                          0.0          1955   \n",
       "3                            0.0                          0.0          1963   \n",
       "4                            0.0                          0.0          1960   \n",
       "\n",
       "   CD_DEP_COUNT  TOTAL_SALES  \n",
       "0             0     30765.81  \n",
       "1             0     28942.89  \n",
       "2             0     33147.26  \n",
       "3             0     32551.63  \n",
       "4             0     28825.17  \n",
       "\n",
       "[5 rows x 21 columns]"
      ]
     },
     "execution_count": 236,
     "metadata": {},
     "output_type": "execute_result"
    }
   ],
   "source": [
    "sdf_prepared.limit(5).to_pandas()"
   ]
  },
  {
   "cell_type": "markdown",
   "metadata": {},
   "source": [
    "### 3.3 Clean column names"
   ]
  },
  {
   "cell_type": "code",
   "execution_count": 237,
   "metadata": {},
   "outputs": [],
   "source": [
    "# Cleaning column names to make it easier for future referencing\n",
    "import re\n",
    "\n",
    "cols = sdf_prepared.columns\n",
    "for old_col in cols:\n",
    "    new_col = re.sub(r'[^a-zA-Z0-9_]', '', old_col)\n",
    "    new_col = new_col.upper()\n",
    "    sdf_prepared = sdf_prepared.rename(old_col, new_col)"
   ]
  },
  {
   "cell_type": "markdown",
   "metadata": {},
   "source": [
    "# 4.0 ML Modeling"
   ]
  },
  {
   "cell_type": "code",
   "execution_count": 189,
   "metadata": {},
   "outputs": [],
   "source": [
    "# Use Snowpark Optimized Warehouse\n",
    "session.use_warehouse('snowpark_opt_wh')"
   ]
  },
  {
   "cell_type": "markdown",
   "metadata": {},
   "source": [
    "### 4.1 Prepare data"
   ]
  },
  {
   "cell_type": "code",
   "execution_count": 238,
   "metadata": {},
   "outputs": [],
   "source": [
    "# Prepare Data for modeling\n",
    "feature_cols = sdf_prepared.columns\n",
    "feature_cols.remove('TOTAL_SALES')\n",
    "target_col = 'TOTAL_SALES'"
   ]
  },
  {
   "cell_type": "code",
   "execution_count": 239,
   "metadata": {},
   "outputs": [],
   "source": [
    "# Save the train and test sets as time stamped tables in Snowflake\n",
    "snowdf_train, snowdf_test = sdf_prepared.random_split([0.8, 0.2], seed=82) \n",
    "snowdf_train.write.mode(\"overwrite\").save_as_table(\"tpcds_xgboost.demo.tpc_TRAIN\")\n",
    "snowdf_test.write.mode(\"overwrite\").save_as_table(\"tpcds_xgboost.demo.tpc_TEST\")"
   ]
  },
  {
   "cell_type": "markdown",
   "metadata": {},
   "source": [
    "### 4.2 Initialize Model and Fit"
   ]
  },
  {
   "cell_type": "code",
   "execution_count": 240,
   "metadata": {},
   "outputs": [
    {
     "name": "stderr",
     "output_type": "stream",
     "text": [
      "The version of package 'snowflake-snowpark-python' in the local environment is 1.9.0, which does not fit the criteria for the requirement 'snowflake-snowpark-python'. Your UDF might not work when the package version is different between the server and your local environment.\n"
     ]
    },
    {
     "data": {
      "text/plain": [
       "<snowflake.ml.modeling.xgboost.xgb_regressor.XGBRegressor at 0x7fd9d0141880>"
      ]
     },
     "execution_count": 240,
     "metadata": {},
     "output_type": "execute_result"
    }
   ],
   "source": [
    "# Define the XGBRegressor and fit the model\n",
    "xgbmodel = XGBRegressor(random_state=123, input_cols=feature_cols, label_cols=target_col, output_cols='PREDICTION')\n",
    "xgbmodel.fit(snowdf_train)"
   ]
  },
  {
   "cell_type": "markdown",
   "metadata": {},
   "source": [
    "### 4.3 Predict on test set"
   ]
  },
  {
   "cell_type": "code",
   "execution_count": 242,
   "metadata": {},
   "outputs": [],
   "source": [
    "# Score the data using the fitted xgbmodel\n",
    "sdf_scored = xgbmodel.predict(snowdf_test)"
   ]
  },
  {
   "cell_type": "code",
   "execution_count": 244,
   "metadata": {},
   "outputs": [
    {
     "data": {
      "text/html": [
       "<div>\n",
       "<style scoped>\n",
       "    .dataframe tbody tr th:only-of-type {\n",
       "        vertical-align: middle;\n",
       "    }\n",
       "\n",
       "    .dataframe tbody tr th {\n",
       "        vertical-align: top;\n",
       "    }\n",
       "\n",
       "    .dataframe thead th {\n",
       "        text-align: right;\n",
       "    }\n",
       "</style>\n",
       "<table border=\"1\" class=\"dataframe\">\n",
       "  <thead>\n",
       "    <tr style=\"text-align: right;\">\n",
       "      <th></th>\n",
       "      <th>CD_MARITAL_STATUS_U</th>\n",
       "      <th>CD_EDUCATION_STATUS_4YRDEGREE</th>\n",
       "      <th>CD_EDUCATION_STATUS_UNKNOWN</th>\n",
       "      <th>CD_CREDIT_RATING_GOOD</th>\n",
       "      <th>CD_GENDER_F</th>\n",
       "      <th>CD_EDUCATION_STATUS_SECONDARY</th>\n",
       "      <th>CD_GENDER_M</th>\n",
       "      <th>CD_EDUCATION_STATUS_COLLEGE</th>\n",
       "      <th>CD_MARITAL_STATUS_M</th>\n",
       "      <th>CD_EDUCATION_STATUS_ADVANCEDDEGREE</th>\n",
       "      <th>...</th>\n",
       "      <th>CD_EDUCATION_STATUS_PRIMARY</th>\n",
       "      <th>TOTAL_SALES</th>\n",
       "      <th>CD_MARITAL_STATUS_W</th>\n",
       "      <th>C_BIRTH_YEAR</th>\n",
       "      <th>CD_DEP_COUNT</th>\n",
       "      <th>CD_CREDIT_RATING_LOWRISK</th>\n",
       "      <th>CD_MARITAL_STATUS_D</th>\n",
       "      <th>CD_CREDIT_RATING_HIGHRISK</th>\n",
       "      <th>CD_CREDIT_RATING_UNKNOWN</th>\n",
       "      <th>PREDICTION</th>\n",
       "    </tr>\n",
       "  </thead>\n",
       "  <tbody>\n",
       "    <tr>\n",
       "      <th>0</th>\n",
       "      <td>1.0</td>\n",
       "      <td>1.0</td>\n",
       "      <td>0.0</td>\n",
       "      <td>0.0</td>\n",
       "      <td>0.0</td>\n",
       "      <td>0.0</td>\n",
       "      <td>1.0</td>\n",
       "      <td>0.0</td>\n",
       "      <td>0.0</td>\n",
       "      <td>0.0</td>\n",
       "      <td>...</td>\n",
       "      <td>0.0</td>\n",
       "      <td>28937.90</td>\n",
       "      <td>0.0</td>\n",
       "      <td>1943</td>\n",
       "      <td>0</td>\n",
       "      <td>0.0</td>\n",
       "      <td>0.0</td>\n",
       "      <td>0.0</td>\n",
       "      <td>1.0</td>\n",
       "      <td>32343.611328</td>\n",
       "    </tr>\n",
       "    <tr>\n",
       "      <th>1</th>\n",
       "      <td>1.0</td>\n",
       "      <td>1.0</td>\n",
       "      <td>0.0</td>\n",
       "      <td>0.0</td>\n",
       "      <td>0.0</td>\n",
       "      <td>0.0</td>\n",
       "      <td>1.0</td>\n",
       "      <td>0.0</td>\n",
       "      <td>0.0</td>\n",
       "      <td>0.0</td>\n",
       "      <td>...</td>\n",
       "      <td>0.0</td>\n",
       "      <td>32349.19</td>\n",
       "      <td>0.0</td>\n",
       "      <td>1951</td>\n",
       "      <td>0</td>\n",
       "      <td>0.0</td>\n",
       "      <td>0.0</td>\n",
       "      <td>0.0</td>\n",
       "      <td>1.0</td>\n",
       "      <td>32343.160156</td>\n",
       "    </tr>\n",
       "    <tr>\n",
       "      <th>2</th>\n",
       "      <td>1.0</td>\n",
       "      <td>1.0</td>\n",
       "      <td>0.0</td>\n",
       "      <td>0.0</td>\n",
       "      <td>0.0</td>\n",
       "      <td>0.0</td>\n",
       "      <td>1.0</td>\n",
       "      <td>0.0</td>\n",
       "      <td>0.0</td>\n",
       "      <td>0.0</td>\n",
       "      <td>...</td>\n",
       "      <td>0.0</td>\n",
       "      <td>32438.16</td>\n",
       "      <td>0.0</td>\n",
       "      <td>1927</td>\n",
       "      <td>0</td>\n",
       "      <td>0.0</td>\n",
       "      <td>0.0</td>\n",
       "      <td>0.0</td>\n",
       "      <td>1.0</td>\n",
       "      <td>32343.886719</td>\n",
       "    </tr>\n",
       "    <tr>\n",
       "      <th>3</th>\n",
       "      <td>1.0</td>\n",
       "      <td>1.0</td>\n",
       "      <td>0.0</td>\n",
       "      <td>0.0</td>\n",
       "      <td>0.0</td>\n",
       "      <td>0.0</td>\n",
       "      <td>1.0</td>\n",
       "      <td>0.0</td>\n",
       "      <td>0.0</td>\n",
       "      <td>0.0</td>\n",
       "      <td>...</td>\n",
       "      <td>0.0</td>\n",
       "      <td>29026.94</td>\n",
       "      <td>0.0</td>\n",
       "      <td>1958</td>\n",
       "      <td>0</td>\n",
       "      <td>0.0</td>\n",
       "      <td>0.0</td>\n",
       "      <td>0.0</td>\n",
       "      <td>1.0</td>\n",
       "      <td>32335.298828</td>\n",
       "    </tr>\n",
       "    <tr>\n",
       "      <th>4</th>\n",
       "      <td>1.0</td>\n",
       "      <td>1.0</td>\n",
       "      <td>0.0</td>\n",
       "      <td>0.0</td>\n",
       "      <td>0.0</td>\n",
       "      <td>0.0</td>\n",
       "      <td>1.0</td>\n",
       "      <td>0.0</td>\n",
       "      <td>0.0</td>\n",
       "      <td>0.0</td>\n",
       "      <td>...</td>\n",
       "      <td>0.0</td>\n",
       "      <td>26101.53</td>\n",
       "      <td>0.0</td>\n",
       "      <td>1928</td>\n",
       "      <td>0</td>\n",
       "      <td>0.0</td>\n",
       "      <td>0.0</td>\n",
       "      <td>0.0</td>\n",
       "      <td>1.0</td>\n",
       "      <td>32317.375000</td>\n",
       "    </tr>\n",
       "  </tbody>\n",
       "</table>\n",
       "<p>5 rows × 22 columns</p>\n",
       "</div>"
      ],
      "text/plain": [
       "   CD_MARITAL_STATUS_U  CD_EDUCATION_STATUS_4YRDEGREE  \\\n",
       "0                  1.0                            1.0   \n",
       "1                  1.0                            1.0   \n",
       "2                  1.0                            1.0   \n",
       "3                  1.0                            1.0   \n",
       "4                  1.0                            1.0   \n",
       "\n",
       "   CD_EDUCATION_STATUS_UNKNOWN  CD_CREDIT_RATING_GOOD  CD_GENDER_F  \\\n",
       "0                          0.0                    0.0          0.0   \n",
       "1                          0.0                    0.0          0.0   \n",
       "2                          0.0                    0.0          0.0   \n",
       "3                          0.0                    0.0          0.0   \n",
       "4                          0.0                    0.0          0.0   \n",
       "\n",
       "   CD_EDUCATION_STATUS_SECONDARY  CD_GENDER_M  CD_EDUCATION_STATUS_COLLEGE  \\\n",
       "0                            0.0          1.0                          0.0   \n",
       "1                            0.0          1.0                          0.0   \n",
       "2                            0.0          1.0                          0.0   \n",
       "3                            0.0          1.0                          0.0   \n",
       "4                            0.0          1.0                          0.0   \n",
       "\n",
       "   CD_MARITAL_STATUS_M  CD_EDUCATION_STATUS_ADVANCEDDEGREE  ...  \\\n",
       "0                  0.0                                 0.0  ...   \n",
       "1                  0.0                                 0.0  ...   \n",
       "2                  0.0                                 0.0  ...   \n",
       "3                  0.0                                 0.0  ...   \n",
       "4                  0.0                                 0.0  ...   \n",
       "\n",
       "   CD_EDUCATION_STATUS_PRIMARY  TOTAL_SALES  CD_MARITAL_STATUS_W  \\\n",
       "0                          0.0     28937.90                  0.0   \n",
       "1                          0.0     32349.19                  0.0   \n",
       "2                          0.0     32438.16                  0.0   \n",
       "3                          0.0     29026.94                  0.0   \n",
       "4                          0.0     26101.53                  0.0   \n",
       "\n",
       "   C_BIRTH_YEAR  CD_DEP_COUNT  CD_CREDIT_RATING_LOWRISK  CD_MARITAL_STATUS_D  \\\n",
       "0          1943             0                       0.0                  0.0   \n",
       "1          1951             0                       0.0                  0.0   \n",
       "2          1927             0                       0.0                  0.0   \n",
       "3          1958             0                       0.0                  0.0   \n",
       "4          1928             0                       0.0                  0.0   \n",
       "\n",
       "   CD_CREDIT_RATING_HIGHRISK  CD_CREDIT_RATING_UNKNOWN    PREDICTION  \n",
       "0                        0.0                       1.0  32343.611328  \n",
       "1                        0.0                       1.0  32343.160156  \n",
       "2                        0.0                       1.0  32343.886719  \n",
       "3                        0.0                       1.0  32335.298828  \n",
       "4                        0.0                       1.0  32317.375000  \n",
       "\n",
       "[5 rows x 22 columns]"
      ]
     },
     "execution_count": 244,
     "metadata": {},
     "output_type": "execute_result"
    }
   ],
   "source": [
    "sdf_scored.limit(5).to_pandas()"
   ]
  },
  {
   "cell_type": "markdown",
   "metadata": {},
   "source": [
    "### 4.4 Save predictions in Snowflake"
   ]
  },
  {
   "cell_type": "code",
   "execution_count": 245,
   "metadata": {},
   "outputs": [
    {
     "ename": "SnowparkSQLException",
     "evalue": "(1304): 100357 (P0000): Python Interpreter Error:\nTraceback (most recent call last):\n  File \"/home/udf/27776852/udf_py_2094496520.zip/udf_py_2094496520.py\", line 109, in compute\n    return lock_function_once(func, invoked)(*[df[idx] for idx in range(df.shape[1])])\n  File \"/home/udf/27776852/udf_py_2094496520.zip/udf_py_2094496520.py\", line 102, in wrapper\n    return f(*args, **kwargs)\n  File \"/Users/arpitajaiswal/opt/anaconda3/envs/pysnowpark_ml_tpcds/lib/python3.9/site-packages/snowflake/ml/modeling/_internal/snowpark_handlers.py\", line 382, in vec_batch_infer\n  File \"/usr/lib/python_udf/76ea5cd402868097e7ca680c5ec94bc07fe402be32dc23fbe206bb07d545232c/lib/python3.9/site-packages/xgboost/sklearn.py\", line 1114, in predict\n    predts = self.get_booster().inplace_predict(\n  File \"/usr/lib/python_udf/76ea5cd402868097e7ca680c5ec94bc07fe402be32dc23fbe206bb07d545232c/lib/python3.9/site-packages/xgboost/core.py\", line 2283, in inplace_predict\n    data, fns, _ = _transform_pandas_df(data, enable_categorical)\n  File \"/usr/lib/python_udf/76ea5cd402868097e7ca680c5ec94bc07fe402be32dc23fbe206bb07d545232c/lib/python3.9/site-packages/xgboost/data.py\", line 378, in _transform_pandas_df\n    _invalid_dataframe_dtype(data)\n  File \"/usr/lib/python_udf/76ea5cd402868097e7ca680c5ec94bc07fe402be32dc23fbe206bb07d545232c/lib/python3.9/site-packages/xgboost/data.py\", line 270, in _invalid_dataframe_dtype\n    raise ValueError(msg)\nValueError: DataFrame.dtypes for data must be int, float, bool or category. When categorical type is supplied, The experimental DMatrix parameter`enable_categorical` must be set to `True`.  Invalid columns:C_BIRTH_YEAR: object\n in function SNOWPARK_TEMP_FUNCTION_PQZVESEDXR with handler udf_py_2094496520.compute",
     "output_type": "error",
     "traceback": [
      "\u001b[0;31m---------------------------------------------------------------------------\u001b[0m",
      "\u001b[0;31mSnowparkSQLException\u001b[0m                      Traceback (most recent call last)",
      "\u001b[1;32m/Users/arpitajaiswal/Downloads/SnowPark/snowpark-python-demos/tpcds-customer-lifetime-value/xgboost_tpcds.ipynb Cell 43\u001b[0m line \u001b[0;36m3\n\u001b[1;32m      <a href='vscode-notebook-cell:/Users/arpitajaiswal/Downloads/SnowPark/snowpark-python-demos/tpcds-customer-lifetime-value/xgboost_tpcds.ipynb#Y332sZmlsZQ%3D%3D?line=0'>1</a>\u001b[0m session\u001b[39m.\u001b[39muse_database(\u001b[39m'\u001b[39m\u001b[39mtpcds_xgboost\u001b[39m\u001b[39m'\u001b[39m)\n\u001b[1;32m      <a href='vscode-notebook-cell:/Users/arpitajaiswal/Downloads/SnowPark/snowpark-python-demos/tpcds-customer-lifetime-value/xgboost_tpcds.ipynb#Y332sZmlsZQ%3D%3D?line=1'>2</a>\u001b[0m session\u001b[39m.\u001b[39muse_schema(\u001b[39m'\u001b[39m\u001b[39mdemo\u001b[39m\u001b[39m'\u001b[39m)\n\u001b[0;32m----> <a href='vscode-notebook-cell:/Users/arpitajaiswal/Downloads/SnowPark/snowpark-python-demos/tpcds-customer-lifetime-value/xgboost_tpcds.ipynb#Y332sZmlsZQ%3D%3D?line=2'>3</a>\u001b[0m sdf_scored\u001b[39m.\u001b[39;49mwrite\u001b[39m.\u001b[39;49mmode(\u001b[39m'\u001b[39;49m\u001b[39moverwrite\u001b[39;49m\u001b[39m'\u001b[39;49m)\u001b[39m.\u001b[39;49msave_as_table(\u001b[39m'\u001b[39;49m\u001b[39mprediction\u001b[39;49m\u001b[39m'\u001b[39;49m)\n",
      "File \u001b[0;32m~/opt/anaconda3/envs/pysnowpark_ml_tpcds/lib/python3.9/site-packages/snowflake/snowpark/_internal/telemetry.py:162\u001b[0m, in \u001b[0;36mdfw_collect_api_telemetry.<locals>.wrap\u001b[0;34m(*args, **kwargs)\u001b[0m\n\u001b[1;32m    159\u001b[0m \u001b[39m@functools\u001b[39m\u001b[39m.\u001b[39mwraps(func)\n\u001b[1;32m    160\u001b[0m \u001b[39mdef\u001b[39;00m \u001b[39mwrap\u001b[39m(\u001b[39m*\u001b[39margs, \u001b[39m*\u001b[39m\u001b[39m*\u001b[39mkwargs):\n\u001b[1;32m    161\u001b[0m     \u001b[39mwith\u001b[39;00m args[\u001b[39m0\u001b[39m]\u001b[39m.\u001b[39m_dataframe\u001b[39m.\u001b[39m_session\u001b[39m.\u001b[39mquery_history() \u001b[39mas\u001b[39;00m query_history:\n\u001b[0;32m--> 162\u001b[0m         result \u001b[39m=\u001b[39m func(\u001b[39m*\u001b[39;49margs, \u001b[39m*\u001b[39;49m\u001b[39m*\u001b[39;49mkwargs)\n\u001b[1;32m    163\u001b[0m     plan \u001b[39m=\u001b[39m args[\u001b[39m0\u001b[39m]\u001b[39m.\u001b[39m_dataframe\u001b[39m.\u001b[39m_select_statement \u001b[39mor\u001b[39;00m args[\u001b[39m0\u001b[39m]\u001b[39m.\u001b[39m_dataframe\u001b[39m.\u001b[39m_plan\n\u001b[1;32m    164\u001b[0m     api_calls \u001b[39m=\u001b[39m [\n\u001b[1;32m    165\u001b[0m         \u001b[39m*\u001b[39mplan\u001b[39m.\u001b[39mapi_calls,\n\u001b[1;32m    166\u001b[0m         {TelemetryField\u001b[39m.\u001b[39mNAME\u001b[39m.\u001b[39mvalue: \u001b[39mf\u001b[39m\u001b[39m\"\u001b[39m\u001b[39mDataFrameWriter.\u001b[39m\u001b[39m{\u001b[39;00mfunc\u001b[39m.\u001b[39m\u001b[39m__name__\u001b[39m\u001b[39m}\u001b[39;00m\u001b[39m\"\u001b[39m},\n\u001b[1;32m    167\u001b[0m     ]\n",
      "File \u001b[0;32m~/opt/anaconda3/envs/pysnowpark_ml_tpcds/lib/python3.9/site-packages/snowflake/snowpark/dataframe_writer.py:217\u001b[0m, in \u001b[0;36mDataFrameWriter.save_as_table\u001b[0;34m(self, table_name, mode, column_order, create_temp_table, table_type, clustering_keys, statement_params, block)\u001b[0m\n\u001b[1;32m    215\u001b[0m session \u001b[39m=\u001b[39m \u001b[39mself\u001b[39m\u001b[39m.\u001b[39m_dataframe\u001b[39m.\u001b[39m_session\n\u001b[1;32m    216\u001b[0m snowflake_plan \u001b[39m=\u001b[39m session\u001b[39m.\u001b[39m_analyzer\u001b[39m.\u001b[39mresolve(create_table_logic_plan)\n\u001b[0;32m--> 217\u001b[0m result \u001b[39m=\u001b[39m session\u001b[39m.\u001b[39;49m_conn\u001b[39m.\u001b[39;49mexecute(\n\u001b[1;32m    218\u001b[0m     snowflake_plan,\n\u001b[1;32m    219\u001b[0m     _statement_params\u001b[39m=\u001b[39;49mstatement_params \u001b[39mor\u001b[39;49;00m \u001b[39mself\u001b[39;49m\u001b[39m.\u001b[39;49m_dataframe\u001b[39m.\u001b[39;49m_statement_params,\n\u001b[1;32m    220\u001b[0m     block\u001b[39m=\u001b[39;49mblock,\n\u001b[1;32m    221\u001b[0m     data_type\u001b[39m=\u001b[39;49m_AsyncResultType\u001b[39m.\u001b[39;49mNO_RESULT,\n\u001b[1;32m    222\u001b[0m )\n\u001b[1;32m    223\u001b[0m \u001b[39mreturn\u001b[39;00m result \u001b[39mif\u001b[39;00m \u001b[39mnot\u001b[39;00m block \u001b[39melse\u001b[39;00m \u001b[39mNone\u001b[39;00m\n",
      "File \u001b[0;32m~/opt/anaconda3/envs/pysnowpark_ml_tpcds/lib/python3.9/site-packages/snowflake/snowpark/_internal/server_connection.py:451\u001b[0m, in \u001b[0;36mServerConnection.execute\u001b[0;34m(self, plan, to_pandas, to_iter, block, data_type, log_on_exception, case_sensitive, **kwargs)\u001b[0m\n\u001b[1;32m    441\u001b[0m \u001b[39mif\u001b[39;00m (\n\u001b[1;32m    442\u001b[0m     is_in_stored_procedure()\n\u001b[1;32m    443\u001b[0m     \u001b[39mand\u001b[39;00m \u001b[39mnot\u001b[39;00m block\n\u001b[0;32m   (...)\u001b[0m\n\u001b[1;32m    446\u001b[0m     )\n\u001b[1;32m    447\u001b[0m ):  \u001b[39m# pragma: no cover\u001b[39;00m\n\u001b[1;32m    448\u001b[0m     \u001b[39mraise\u001b[39;00m \u001b[39mNotImplementedError\u001b[39;00m(\n\u001b[1;32m    449\u001b[0m         \u001b[39m\"\u001b[39m\u001b[39mAsync query is not supported in stored procedure yet\u001b[39m\u001b[39m\"\u001b[39m\n\u001b[1;32m    450\u001b[0m     )\n\u001b[0;32m--> 451\u001b[0m result_set, result_meta \u001b[39m=\u001b[39m \u001b[39mself\u001b[39;49m\u001b[39m.\u001b[39;49mget_result_set(\n\u001b[1;32m    452\u001b[0m     plan,\n\u001b[1;32m    453\u001b[0m     to_pandas,\n\u001b[1;32m    454\u001b[0m     to_iter,\n\u001b[1;32m    455\u001b[0m     \u001b[39m*\u001b[39;49m\u001b[39m*\u001b[39;49mkwargs,\n\u001b[1;32m    456\u001b[0m     block\u001b[39m=\u001b[39;49mblock,\n\u001b[1;32m    457\u001b[0m     data_type\u001b[39m=\u001b[39;49mdata_type,\n\u001b[1;32m    458\u001b[0m     log_on_exception\u001b[39m=\u001b[39;49mlog_on_exception,\n\u001b[1;32m    459\u001b[0m     case_sensitive\u001b[39m=\u001b[39;49mcase_sensitive,\n\u001b[1;32m    460\u001b[0m )\n\u001b[1;32m    461\u001b[0m \u001b[39mif\u001b[39;00m \u001b[39mnot\u001b[39;00m block:\n\u001b[1;32m    462\u001b[0m     \u001b[39mreturn\u001b[39;00m result_set\n",
      "File \u001b[0;32m~/opt/anaconda3/envs/pysnowpark_ml_tpcds/lib/python3.9/site-packages/snowflake/snowpark/_internal/analyzer/snowflake_plan.py:181\u001b[0m, in \u001b[0;36mSnowflakePlan.Decorator.wrap_exception.<locals>.wrap\u001b[0;34m(*args, **kwargs)\u001b[0m\n\u001b[1;32m    177\u001b[0m \u001b[39melse\u001b[39;00m:\n\u001b[1;32m    178\u001b[0m     ne \u001b[39m=\u001b[39m SnowparkClientExceptionMessages\u001b[39m.\u001b[39mSQL_EXCEPTION_FROM_PROGRAMMING_ERROR(\n\u001b[1;32m    179\u001b[0m         e\n\u001b[1;32m    180\u001b[0m     )\n\u001b[0;32m--> 181\u001b[0m     \u001b[39mraise\u001b[39;00m ne\u001b[39m.\u001b[39mwith_traceback(tb) \u001b[39mfrom\u001b[39;00m \u001b[39mNone\u001b[39;00m\n",
      "File \u001b[0;32m~/opt/anaconda3/envs/pysnowpark_ml_tpcds/lib/python3.9/site-packages/snowflake/snowpark/_internal/analyzer/snowflake_plan.py:111\u001b[0m, in \u001b[0;36mSnowflakePlan.Decorator.wrap_exception.<locals>.wrap\u001b[0;34m(*args, **kwargs)\u001b[0m\n\u001b[1;32m    109\u001b[0m \u001b[39mdef\u001b[39;00m \u001b[39mwrap\u001b[39m(\u001b[39m*\u001b[39margs, \u001b[39m*\u001b[39m\u001b[39m*\u001b[39mkwargs):\n\u001b[1;32m    110\u001b[0m     \u001b[39mtry\u001b[39;00m:\n\u001b[0;32m--> 111\u001b[0m         \u001b[39mreturn\u001b[39;00m func(\u001b[39m*\u001b[39;49margs, \u001b[39m*\u001b[39;49m\u001b[39m*\u001b[39;49mkwargs)\n\u001b[1;32m    112\u001b[0m     \u001b[39mexcept\u001b[39;00m snowflake\u001b[39m.\u001b[39mconnector\u001b[39m.\u001b[39merrors\u001b[39m.\u001b[39mProgrammingError \u001b[39mas\u001b[39;00m e:\n\u001b[1;32m    113\u001b[0m         query \u001b[39m=\u001b[39m \u001b[39mNone\u001b[39;00m\n",
      "File \u001b[0;32m~/opt/anaconda3/envs/pysnowpark_ml_tpcds/lib/python3.9/site-packages/snowflake/snowpark/_internal/server_connection.py:552\u001b[0m, in \u001b[0;36mServerConnection.get_result_set\u001b[0;34m(self, plan, to_pandas, to_iter, block, data_type, log_on_exception, case_sensitive, **kwargs)\u001b[0m\n\u001b[1;32m    550\u001b[0m \u001b[39mfor\u001b[39;00m holder, id_ \u001b[39min\u001b[39;00m placeholders\u001b[39m.\u001b[39mitems():\n\u001b[1;32m    551\u001b[0m     final_query \u001b[39m=\u001b[39m final_query\u001b[39m.\u001b[39mreplace(holder, id_)\n\u001b[0;32m--> 552\u001b[0m result \u001b[39m=\u001b[39m \u001b[39mself\u001b[39;49m\u001b[39m.\u001b[39;49mrun_query(\n\u001b[1;32m    553\u001b[0m     final_query,\n\u001b[1;32m    554\u001b[0m     to_pandas,\n\u001b[1;32m    555\u001b[0m     to_iter \u001b[39mand\u001b[39;49;00m (i \u001b[39m==\u001b[39;49m \u001b[39mlen\u001b[39;49m(plan\u001b[39m.\u001b[39;49mqueries) \u001b[39m-\u001b[39;49m \u001b[39m1\u001b[39;49m),\n\u001b[1;32m    556\u001b[0m     is_ddl_on_temp_object\u001b[39m=\u001b[39;49mquery\u001b[39m.\u001b[39;49mis_ddl_on_temp_object,\n\u001b[1;32m    557\u001b[0m     block\u001b[39m=\u001b[39;49m\u001b[39mnot\u001b[39;49;00m is_last,\n\u001b[1;32m    558\u001b[0m     data_type\u001b[39m=\u001b[39;49mdata_type,\n\u001b[1;32m    559\u001b[0m     async_job_plan\u001b[39m=\u001b[39;49mplan,\n\u001b[1;32m    560\u001b[0m     log_on_exception\u001b[39m=\u001b[39;49mlog_on_exception,\n\u001b[1;32m    561\u001b[0m     case_sensitive\u001b[39m=\u001b[39;49mcase_sensitive,\n\u001b[1;32m    562\u001b[0m     params\u001b[39m=\u001b[39;49mquery\u001b[39m.\u001b[39;49mparams,\n\u001b[1;32m    563\u001b[0m     \u001b[39m*\u001b[39;49m\u001b[39m*\u001b[39;49mkwargs,\n\u001b[1;32m    564\u001b[0m )\n\u001b[1;32m    565\u001b[0m placeholders[query\u001b[39m.\u001b[39mquery_id_place_holder] \u001b[39m=\u001b[39m (\n\u001b[1;32m    566\u001b[0m     result[\u001b[39m\"\u001b[39m\u001b[39msfqid\u001b[39m\u001b[39m\"\u001b[39m] \u001b[39mif\u001b[39;00m \u001b[39mnot\u001b[39;00m is_last \u001b[39melse\u001b[39;00m result\u001b[39m.\u001b[39mquery_id\n\u001b[1;32m    567\u001b[0m )\n\u001b[1;32m    568\u001b[0m result_meta \u001b[39m=\u001b[39m \u001b[39mself\u001b[39m\u001b[39m.\u001b[39m_cursor\u001b[39m.\u001b[39mdescription\n",
      "File \u001b[0;32m~/opt/anaconda3/envs/pysnowpark_ml_tpcds/lib/python3.9/site-packages/snowflake/snowpark/_internal/server_connection.py:102\u001b[0m, in \u001b[0;36mServerConnection._Decorator.wrap_exception.<locals>.wrap\u001b[0;34m(*args, **kwargs)\u001b[0m\n\u001b[1;32m     98\u001b[0m     \u001b[39mraise\u001b[39;00m SnowparkClientExceptionMessages\u001b[39m.\u001b[39mSERVER_SESSION_EXPIRED(\n\u001b[1;32m     99\u001b[0m         ex\u001b[39m.\u001b[39mcause\n\u001b[1;32m    100\u001b[0m     )\n\u001b[1;32m    101\u001b[0m \u001b[39mexcept\u001b[39;00m \u001b[39mException\u001b[39;00m \u001b[39mas\u001b[39;00m ex:\n\u001b[0;32m--> 102\u001b[0m     \u001b[39mraise\u001b[39;00m ex\n",
      "File \u001b[0;32m~/opt/anaconda3/envs/pysnowpark_ml_tpcds/lib/python3.9/site-packages/snowflake/snowpark/_internal/server_connection.py:96\u001b[0m, in \u001b[0;36mServerConnection._Decorator.wrap_exception.<locals>.wrap\u001b[0;34m(*args, **kwargs)\u001b[0m\n\u001b[1;32m     94\u001b[0m     \u001b[39mraise\u001b[39;00m SnowparkClientExceptionMessages\u001b[39m.\u001b[39mSERVER_SESSION_HAS_BEEN_CLOSED()\n\u001b[1;32m     95\u001b[0m \u001b[39mtry\u001b[39;00m:\n\u001b[0;32m---> 96\u001b[0m     \u001b[39mreturn\u001b[39;00m func(\u001b[39m*\u001b[39;49margs, \u001b[39m*\u001b[39;49m\u001b[39m*\u001b[39;49mkwargs)\n\u001b[1;32m     97\u001b[0m \u001b[39mexcept\u001b[39;00m ReauthenticationRequest \u001b[39mas\u001b[39;00m ex:\n\u001b[1;32m     98\u001b[0m     \u001b[39mraise\u001b[39;00m SnowparkClientExceptionMessages\u001b[39m.\u001b[39mSERVER_SESSION_EXPIRED(\n\u001b[1;32m     99\u001b[0m         ex\u001b[39m.\u001b[39mcause\n\u001b[1;32m    100\u001b[0m     )\n",
      "File \u001b[0;32m~/opt/anaconda3/envs/pysnowpark_ml_tpcds/lib/python3.9/site-packages/snowflake/snowpark/_internal/server_connection.py:366\u001b[0m, in \u001b[0;36mServerConnection.run_query\u001b[0;34m(self, query, to_pandas, to_iter, is_ddl_on_temp_object, block, data_type, async_job_plan, log_on_exception, case_sensitive, params, num_statements, **kwargs)\u001b[0m\n\u001b[1;32m    364\u001b[0m         query_id_log \u001b[39m=\u001b[39m \u001b[39mf\u001b[39m\u001b[39m\"\u001b[39m\u001b[39m [queryID: \u001b[39m\u001b[39m{\u001b[39;00mex\u001b[39m.\u001b[39msfqid\u001b[39m}\u001b[39;00m\u001b[39m]\u001b[39m\u001b[39m\"\u001b[39m \u001b[39mif\u001b[39;00m \u001b[39mhasattr\u001b[39m(ex, \u001b[39m\"\u001b[39m\u001b[39msfqid\u001b[39m\u001b[39m\"\u001b[39m) \u001b[39melse\u001b[39;00m \u001b[39m\"\u001b[39m\u001b[39m\"\u001b[39m\n\u001b[1;32m    365\u001b[0m         logger\u001b[39m.\u001b[39merror(\u001b[39mf\u001b[39m\u001b[39m\"\u001b[39m\u001b[39mFailed to execute query\u001b[39m\u001b[39m{\u001b[39;00mquery_id_log\u001b[39m}\u001b[39;00m\u001b[39m \u001b[39m\u001b[39m{\u001b[39;00mquery\u001b[39m}\u001b[39;00m\u001b[39m\\n\u001b[39;00m\u001b[39m{\u001b[39;00mex\u001b[39m}\u001b[39;00m\u001b[39m\"\u001b[39m)\n\u001b[0;32m--> 366\u001b[0m     \u001b[39mraise\u001b[39;00m ex\n\u001b[1;32m    368\u001b[0m \u001b[39m# fetch_pandas_all/batches() only works for SELECT statements\u001b[39;00m\n\u001b[1;32m    369\u001b[0m \u001b[39m# We call fetchall() if fetch_pandas_all/batches() fails,\u001b[39;00m\n\u001b[1;32m    370\u001b[0m \u001b[39m# because when the query plan has multiple queries, it will\u001b[39;00m\n\u001b[1;32m    371\u001b[0m \u001b[39m# have non-select statements, and it shouldn't fail if the user\u001b[39;00m\n\u001b[1;32m    372\u001b[0m \u001b[39m# calls to_pandas() to execute the query.\u001b[39;00m\n\u001b[1;32m    373\u001b[0m \u001b[39mif\u001b[39;00m block:\n",
      "File \u001b[0;32m~/opt/anaconda3/envs/pysnowpark_ml_tpcds/lib/python3.9/site-packages/snowflake/snowpark/_internal/server_connection.py:347\u001b[0m, in \u001b[0;36mServerConnection.run_query\u001b[0;34m(self, query, to_pandas, to_iter, is_ddl_on_temp_object, block, data_type, async_job_plan, log_on_exception, case_sensitive, params, num_statements, **kwargs)\u001b[0m\n\u001b[1;32m    345\u001b[0m     kwargs[\u001b[39m\"\u001b[39m\u001b[39m_statement_params\u001b[39m\u001b[39m\"\u001b[39m][\u001b[39m\"\u001b[39m\u001b[39mSNOWPARK_SKIP_TXN_COMMIT_IN_DDL\u001b[39m\u001b[39m\"\u001b[39m] \u001b[39m=\u001b[39m \u001b[39mTrue\u001b[39;00m\n\u001b[1;32m    346\u001b[0m \u001b[39mif\u001b[39;00m block:\n\u001b[0;32m--> 347\u001b[0m     results_cursor \u001b[39m=\u001b[39m \u001b[39mself\u001b[39;49m\u001b[39m.\u001b[39;49m_cursor\u001b[39m.\u001b[39;49mexecute(query, params\u001b[39m=\u001b[39;49mparams, \u001b[39m*\u001b[39;49m\u001b[39m*\u001b[39;49mkwargs)\n\u001b[1;32m    348\u001b[0m     \u001b[39mself\u001b[39m\u001b[39m.\u001b[39mnotify_query_listeners(\n\u001b[1;32m    349\u001b[0m         QueryRecord(results_cursor\u001b[39m.\u001b[39msfqid, results_cursor\u001b[39m.\u001b[39mquery)\n\u001b[1;32m    350\u001b[0m     )\n\u001b[1;32m    351\u001b[0m     logger\u001b[39m.\u001b[39mdebug(\u001b[39mf\u001b[39m\u001b[39m\"\u001b[39m\u001b[39mExecute query [queryID: \u001b[39m\u001b[39m{\u001b[39;00mresults_cursor\u001b[39m.\u001b[39msfqid\u001b[39m}\u001b[39;00m\u001b[39m] \u001b[39m\u001b[39m{\u001b[39;00mquery\u001b[39m}\u001b[39;00m\u001b[39m\"\u001b[39m)\n",
      "File \u001b[0;32m~/opt/anaconda3/envs/pysnowpark_ml_tpcds/lib/python3.9/site-packages/snowflake/connector/cursor.py:937\u001b[0m, in \u001b[0;36mSnowflakeCursor.execute\u001b[0;34m(self, command, params, _bind_stage, timeout, _exec_async, _no_retry, _do_reset, _put_callback, _put_azure_callback, _put_callback_output_stream, _get_callback, _get_azure_callback, _get_callback_output_stream, _show_progress_bar, _statement_params, _is_internal, _describe_only, _no_results, _is_put_get, _raise_put_get_error, _force_put_overwrite, _skip_upload_on_content_match, file_stream, num_statements)\u001b[0m\n\u001b[1;32m    933\u001b[0m     is_integrity_error \u001b[39m=\u001b[39m (\n\u001b[1;32m    934\u001b[0m         code \u001b[39m==\u001b[39m \u001b[39m\"\u001b[39m\u001b[39m100072\u001b[39m\u001b[39m\"\u001b[39m\n\u001b[1;32m    935\u001b[0m     )  \u001b[39m# NULL result in a non-nullable column\u001b[39;00m\n\u001b[1;32m    936\u001b[0m     error_class \u001b[39m=\u001b[39m IntegrityError \u001b[39mif\u001b[39;00m is_integrity_error \u001b[39melse\u001b[39;00m ProgrammingError\n\u001b[0;32m--> 937\u001b[0m     Error\u001b[39m.\u001b[39;49merrorhandler_wrapper(\u001b[39mself\u001b[39;49m\u001b[39m.\u001b[39;49mconnection, \u001b[39mself\u001b[39;49m, error_class, errvalue)\n\u001b[1;32m    938\u001b[0m \u001b[39mreturn\u001b[39;00m \u001b[39mself\u001b[39m\n",
      "File \u001b[0;32m~/opt/anaconda3/envs/pysnowpark_ml_tpcds/lib/python3.9/site-packages/snowflake/connector/errors.py:290\u001b[0m, in \u001b[0;36mError.errorhandler_wrapper\u001b[0;34m(connection, cursor, error_class, error_value)\u001b[0m\n\u001b[1;32m    267\u001b[0m \u001b[39m@staticmethod\u001b[39m\n\u001b[1;32m    268\u001b[0m \u001b[39mdef\u001b[39;00m \u001b[39merrorhandler_wrapper\u001b[39m(\n\u001b[1;32m    269\u001b[0m     connection: SnowflakeConnection \u001b[39m|\u001b[39m \u001b[39mNone\u001b[39;00m,\n\u001b[0;32m   (...)\u001b[0m\n\u001b[1;32m    272\u001b[0m     error_value: \u001b[39mdict\u001b[39m[\u001b[39mstr\u001b[39m, Any],\n\u001b[1;32m    273\u001b[0m ) \u001b[39m-\u001b[39m\u001b[39m>\u001b[39m \u001b[39mNone\u001b[39;00m:\n\u001b[1;32m    274\u001b[0m \u001b[39m    \u001b[39m\u001b[39m\"\"\"Error handler wrapper that calls the errorhandler method.\u001b[39;00m\n\u001b[1;32m    275\u001b[0m \n\u001b[1;32m    276\u001b[0m \u001b[39m    Args:\u001b[39;00m\n\u001b[0;32m   (...)\u001b[0m\n\u001b[1;32m    287\u001b[0m \u001b[39m        exception to the first handler in that order.\u001b[39;00m\n\u001b[1;32m    288\u001b[0m \u001b[39m    \"\"\"\u001b[39;00m\n\u001b[0;32m--> 290\u001b[0m     handed_over \u001b[39m=\u001b[39m Error\u001b[39m.\u001b[39;49mhand_to_other_handler(\n\u001b[1;32m    291\u001b[0m         connection,\n\u001b[1;32m    292\u001b[0m         cursor,\n\u001b[1;32m    293\u001b[0m         error_class,\n\u001b[1;32m    294\u001b[0m         error_value,\n\u001b[1;32m    295\u001b[0m     )\n\u001b[1;32m    296\u001b[0m     \u001b[39mif\u001b[39;00m \u001b[39mnot\u001b[39;00m handed_over:\n\u001b[1;32m    297\u001b[0m         \u001b[39mraise\u001b[39;00m Error\u001b[39m.\u001b[39merrorhandler_make_exception(\n\u001b[1;32m    298\u001b[0m             error_class,\n\u001b[1;32m    299\u001b[0m             error_value,\n\u001b[1;32m    300\u001b[0m         )\n",
      "File \u001b[0;32m~/opt/anaconda3/envs/pysnowpark_ml_tpcds/lib/python3.9/site-packages/snowflake/connector/errors.py:345\u001b[0m, in \u001b[0;36mError.hand_to_other_handler\u001b[0;34m(connection, cursor, error_class, error_value)\u001b[0m\n\u001b[1;32m    343\u001b[0m \u001b[39mif\u001b[39;00m cursor \u001b[39mis\u001b[39;00m \u001b[39mnot\u001b[39;00m \u001b[39mNone\u001b[39;00m:\n\u001b[1;32m    344\u001b[0m     cursor\u001b[39m.\u001b[39mmessages\u001b[39m.\u001b[39mappend((error_class, error_value))\n\u001b[0;32m--> 345\u001b[0m     cursor\u001b[39m.\u001b[39;49merrorhandler(connection, cursor, error_class, error_value)\n\u001b[1;32m    346\u001b[0m     \u001b[39mreturn\u001b[39;00m \u001b[39mTrue\u001b[39;00m\n\u001b[1;32m    347\u001b[0m \u001b[39melif\u001b[39;00m connection \u001b[39mis\u001b[39;00m \u001b[39mnot\u001b[39;00m \u001b[39mNone\u001b[39;00m:\n",
      "File \u001b[0;32m~/opt/anaconda3/envs/pysnowpark_ml_tpcds/lib/python3.9/site-packages/snowflake/connector/errors.py:221\u001b[0m, in \u001b[0;36mError.default_errorhandler\u001b[0;34m(connection, cursor, error_class, error_value)\u001b[0m\n\u001b[1;32m    219\u001b[0m errno \u001b[39m=\u001b[39m error_value\u001b[39m.\u001b[39mget(\u001b[39m\"\u001b[39m\u001b[39merrno\u001b[39m\u001b[39m\"\u001b[39m)\n\u001b[1;32m    220\u001b[0m done_format_msg \u001b[39m=\u001b[39m error_value\u001b[39m.\u001b[39mget(\u001b[39m\"\u001b[39m\u001b[39mdone_format_msg\u001b[39m\u001b[39m\"\u001b[39m)\n\u001b[0;32m--> 221\u001b[0m \u001b[39mraise\u001b[39;00m error_class(\n\u001b[1;32m    222\u001b[0m     msg\u001b[39m=\u001b[39merror_value\u001b[39m.\u001b[39mget(\u001b[39m\"\u001b[39m\u001b[39mmsg\u001b[39m\u001b[39m\"\u001b[39m),\n\u001b[1;32m    223\u001b[0m     errno\u001b[39m=\u001b[39m\u001b[39mNone\u001b[39;00m \u001b[39mif\u001b[39;00m errno \u001b[39mis\u001b[39;00m \u001b[39mNone\u001b[39;00m \u001b[39melse\u001b[39;00m \u001b[39mint\u001b[39m(errno),\n\u001b[1;32m    224\u001b[0m     sqlstate\u001b[39m=\u001b[39merror_value\u001b[39m.\u001b[39mget(\u001b[39m\"\u001b[39m\u001b[39msqlstate\u001b[39m\u001b[39m\"\u001b[39m),\n\u001b[1;32m    225\u001b[0m     sfqid\u001b[39m=\u001b[39merror_value\u001b[39m.\u001b[39mget(\u001b[39m\"\u001b[39m\u001b[39msfqid\u001b[39m\u001b[39m\"\u001b[39m),\n\u001b[1;32m    226\u001b[0m     query\u001b[39m=\u001b[39merror_value\u001b[39m.\u001b[39mget(\u001b[39m\"\u001b[39m\u001b[39mquery\u001b[39m\u001b[39m\"\u001b[39m),\n\u001b[1;32m    227\u001b[0m     done_format_msg\u001b[39m=\u001b[39m(\n\u001b[1;32m    228\u001b[0m         \u001b[39mNone\u001b[39;00m \u001b[39mif\u001b[39;00m done_format_msg \u001b[39mis\u001b[39;00m \u001b[39mNone\u001b[39;00m \u001b[39melse\u001b[39;00m \u001b[39mbool\u001b[39m(done_format_msg)\n\u001b[1;32m    229\u001b[0m     ),\n\u001b[1;32m    230\u001b[0m     connection\u001b[39m=\u001b[39mconnection,\n\u001b[1;32m    231\u001b[0m     cursor\u001b[39m=\u001b[39mcursor,\n\u001b[1;32m    232\u001b[0m )\n",
      "\u001b[0;31mSnowparkSQLException\u001b[0m: (1304): 100357 (P0000): Python Interpreter Error:\nTraceback (most recent call last):\n  File \"/home/udf/27776852/udf_py_2094496520.zip/udf_py_2094496520.py\", line 109, in compute\n    return lock_function_once(func, invoked)(*[df[idx] for idx in range(df.shape[1])])\n  File \"/home/udf/27776852/udf_py_2094496520.zip/udf_py_2094496520.py\", line 102, in wrapper\n    return f(*args, **kwargs)\n  File \"/Users/arpitajaiswal/opt/anaconda3/envs/pysnowpark_ml_tpcds/lib/python3.9/site-packages/snowflake/ml/modeling/_internal/snowpark_handlers.py\", line 382, in vec_batch_infer\n  File \"/usr/lib/python_udf/76ea5cd402868097e7ca680c5ec94bc07fe402be32dc23fbe206bb07d545232c/lib/python3.9/site-packages/xgboost/sklearn.py\", line 1114, in predict\n    predts = self.get_booster().inplace_predict(\n  File \"/usr/lib/python_udf/76ea5cd402868097e7ca680c5ec94bc07fe402be32dc23fbe206bb07d545232c/lib/python3.9/site-packages/xgboost/core.py\", line 2283, in inplace_predict\n    data, fns, _ = _transform_pandas_df(data, enable_categorical)\n  File \"/usr/lib/python_udf/76ea5cd402868097e7ca680c5ec94bc07fe402be32dc23fbe206bb07d545232c/lib/python3.9/site-packages/xgboost/data.py\", line 378, in _transform_pandas_df\n    _invalid_dataframe_dtype(data)\n  File \"/usr/lib/python_udf/76ea5cd402868097e7ca680c5ec94bc07fe402be32dc23fbe206bb07d545232c/lib/python3.9/site-packages/xgboost/data.py\", line 270, in _invalid_dataframe_dtype\n    raise ValueError(msg)\nValueError: DataFrame.dtypes for data must be int, float, bool or category. When categorical type is supplied, The experimental DMatrix parameter`enable_categorical` must be set to `True`.  Invalid columns:C_BIRTH_YEAR: object\n in function SNOWPARK_TEMP_FUNCTION_PQZVESEDXR with handler udf_py_2094496520.compute"
     ]
    }
   ],
   "source": [
    "session.use_database('tpcds_xgboost')\n",
    "session.use_schema('demo')\n",
    "sdf_scored.write.mode('overwrite').save_as_table('prediction')"
   ]
  },
  {
   "cell_type": "markdown",
   "metadata": {},
   "source": [
    "# 5.0 Deploying trained model as UDF for future usage\n",
    "\n",
    "Steps to follow-\n",
    "1. Get model in your local environment\n",
    "2. Save the file in your local env. as .joblib file\n",
    "3. Upload the file to Snowflake stage\n",
    "4. Create UDF using model in stage\n",
    "\n",
    "We can use `to_xgboost()` in order to get the actual xgboost model object which gives us access to all its attributes."
   ]
  },
  {
   "cell_type": "markdown",
   "metadata": {},
   "source": [
    "### Creating sample dataset for quick predictions"
   ]
  },
  {
   "cell_type": "code",
   "execution_count": 263,
   "metadata": {},
   "outputs": [
    {
     "ename": "InterfaceError",
     "evalue": "252006: Cursor is closed in execute.",
     "output_type": "error",
     "traceback": [
      "\u001b[0;31m---------------------------------------------------------------------------\u001b[0m",
      "\u001b[0;31mInterfaceError\u001b[0m                            Traceback (most recent call last)",
      "\u001b[1;32m/Users/arpitajaiswal/Downloads/SnowPark/snowpark-python-demos/tpcds-customer-lifetime-value/xgboost_tpcds.ipynb Cell 46\u001b[0m line \u001b[0;36m4\n\u001b[1;32m      <a href='vscode-notebook-cell:/Users/arpitajaiswal/Downloads/SnowPark/snowpark-python-demos/tpcds-customer-lifetime-value/xgboost_tpcds.ipynb#Y225sZmlsZQ%3D%3D?line=1'>2</a>\u001b[0m \u001b[39m# Predicting with sample dataset\u001b[39;00m\n\u001b[1;32m      <a href='vscode-notebook-cell:/Users/arpitajaiswal/Downloads/SnowPark/snowpark-python-demos/tpcds-customer-lifetime-value/xgboost_tpcds.ipynb#Y225sZmlsZQ%3D%3D?line=2'>3</a>\u001b[0m sample_data \u001b[39m=\u001b[39m snowdf_test\n\u001b[0;32m----> <a href='vscode-notebook-cell:/Users/arpitajaiswal/Downloads/SnowPark/snowpark-python-demos/tpcds-customer-lifetime-value/xgboost_tpcds.ipynb#Y225sZmlsZQ%3D%3D?line=3'>4</a>\u001b[0m sample_data\u001b[39m.\u001b[39;49mwrite\u001b[39m.\u001b[39;49mmode(\u001b[39m\"\u001b[39;49m\u001b[39moverwrite\u001b[39;49m\u001b[39m\"\u001b[39;49m)\u001b[39m.\u001b[39;49msave_as_table(\u001b[39m\"\u001b[39;49m\u001b[39mtemp_test\u001b[39;49m\u001b[39m\"\u001b[39;49m)\n",
      "File \u001b[0;32m~/opt/anaconda3/envs/pysnowpark_ml_tpcds/lib/python3.9/site-packages/snowflake/snowpark/_internal/telemetry.py:162\u001b[0m, in \u001b[0;36mdfw_collect_api_telemetry.<locals>.wrap\u001b[0;34m(*args, **kwargs)\u001b[0m\n\u001b[1;32m    159\u001b[0m \u001b[39m@functools\u001b[39m\u001b[39m.\u001b[39mwraps(func)\n\u001b[1;32m    160\u001b[0m \u001b[39mdef\u001b[39;00m \u001b[39mwrap\u001b[39m(\u001b[39m*\u001b[39margs, \u001b[39m*\u001b[39m\u001b[39m*\u001b[39mkwargs):\n\u001b[1;32m    161\u001b[0m     \u001b[39mwith\u001b[39;00m args[\u001b[39m0\u001b[39m]\u001b[39m.\u001b[39m_dataframe\u001b[39m.\u001b[39m_session\u001b[39m.\u001b[39mquery_history() \u001b[39mas\u001b[39;00m query_history:\n\u001b[0;32m--> 162\u001b[0m         result \u001b[39m=\u001b[39m func(\u001b[39m*\u001b[39;49margs, \u001b[39m*\u001b[39;49m\u001b[39m*\u001b[39;49mkwargs)\n\u001b[1;32m    163\u001b[0m     plan \u001b[39m=\u001b[39m args[\u001b[39m0\u001b[39m]\u001b[39m.\u001b[39m_dataframe\u001b[39m.\u001b[39m_select_statement \u001b[39mor\u001b[39;00m args[\u001b[39m0\u001b[39m]\u001b[39m.\u001b[39m_dataframe\u001b[39m.\u001b[39m_plan\n\u001b[1;32m    164\u001b[0m     api_calls \u001b[39m=\u001b[39m [\n\u001b[1;32m    165\u001b[0m         \u001b[39m*\u001b[39mplan\u001b[39m.\u001b[39mapi_calls,\n\u001b[1;32m    166\u001b[0m         {TelemetryField\u001b[39m.\u001b[39mNAME\u001b[39m.\u001b[39mvalue: \u001b[39mf\u001b[39m\u001b[39m\"\u001b[39m\u001b[39mDataFrameWriter.\u001b[39m\u001b[39m{\u001b[39;00mfunc\u001b[39m.\u001b[39m\u001b[39m__name__\u001b[39m\u001b[39m}\u001b[39;00m\u001b[39m\"\u001b[39m},\n\u001b[1;32m    167\u001b[0m     ]\n",
      "File \u001b[0;32m~/opt/anaconda3/envs/pysnowpark_ml_tpcds/lib/python3.9/site-packages/snowflake/snowpark/dataframe_writer.py:216\u001b[0m, in \u001b[0;36mDataFrameWriter.save_as_table\u001b[0;34m(self, table_name, mode, column_order, create_temp_table, table_type, clustering_keys, statement_params, block)\u001b[0m\n\u001b[1;32m    207\u001b[0m create_table_logic_plan \u001b[39m=\u001b[39m SnowflakeCreateTable(\n\u001b[1;32m    208\u001b[0m     table_name,\n\u001b[1;32m    209\u001b[0m     column_names,\n\u001b[0;32m   (...)\u001b[0m\n\u001b[1;32m    213\u001b[0m     clustering_exprs,\n\u001b[1;32m    214\u001b[0m )\n\u001b[1;32m    215\u001b[0m session \u001b[39m=\u001b[39m \u001b[39mself\u001b[39m\u001b[39m.\u001b[39m_dataframe\u001b[39m.\u001b[39m_session\n\u001b[0;32m--> 216\u001b[0m snowflake_plan \u001b[39m=\u001b[39m session\u001b[39m.\u001b[39;49m_analyzer\u001b[39m.\u001b[39;49mresolve(create_table_logic_plan)\n\u001b[1;32m    217\u001b[0m result \u001b[39m=\u001b[39m session\u001b[39m.\u001b[39m_conn\u001b[39m.\u001b[39mexecute(\n\u001b[1;32m    218\u001b[0m     snowflake_plan,\n\u001b[1;32m    219\u001b[0m     _statement_params\u001b[39m=\u001b[39mstatement_params \u001b[39mor\u001b[39;00m \u001b[39mself\u001b[39m\u001b[39m.\u001b[39m_dataframe\u001b[39m.\u001b[39m_statement_params,\n\u001b[1;32m    220\u001b[0m     block\u001b[39m=\u001b[39mblock,\n\u001b[1;32m    221\u001b[0m     data_type\u001b[39m=\u001b[39m_AsyncResultType\u001b[39m.\u001b[39mNO_RESULT,\n\u001b[1;32m    222\u001b[0m )\n\u001b[1;32m    223\u001b[0m \u001b[39mreturn\u001b[39;00m result \u001b[39mif\u001b[39;00m \u001b[39mnot\u001b[39;00m block \u001b[39melse\u001b[39;00m \u001b[39mNone\u001b[39;00m\n",
      "File \u001b[0;32m~/opt/anaconda3/envs/pysnowpark_ml_tpcds/lib/python3.9/site-packages/snowflake/snowpark/_internal/analyzer/analyzer.py:697\u001b[0m, in \u001b[0;36mAnalyzer.resolve\u001b[0;34m(self, logical_plan)\u001b[0m\n\u001b[1;32m    694\u001b[0m \u001b[39mself\u001b[39m\u001b[39m.\u001b[39msubquery_plans \u001b[39m=\u001b[39m []\n\u001b[1;32m    695\u001b[0m \u001b[39mself\u001b[39m\u001b[39m.\u001b[39mgenerated_alias_maps \u001b[39m=\u001b[39m {}\n\u001b[0;32m--> 697\u001b[0m result \u001b[39m=\u001b[39m \u001b[39mself\u001b[39;49m\u001b[39m.\u001b[39;49mdo_resolve(logical_plan)\n\u001b[1;32m    699\u001b[0m result\u001b[39m.\u001b[39madd_aliases(\u001b[39mself\u001b[39m\u001b[39m.\u001b[39mgenerated_alias_maps)\n\u001b[1;32m    701\u001b[0m \u001b[39mif\u001b[39;00m \u001b[39mself\u001b[39m\u001b[39m.\u001b[39msubquery_plans:\n",
      "File \u001b[0;32m~/opt/anaconda3/envs/pysnowpark_ml_tpcds/lib/python3.9/site-packages/snowflake/snowpark/_internal/analyzer/analyzer.py:740\u001b[0m, in \u001b[0;36mAnalyzer.do_resolve\u001b[0;34m(self, logical_plan)\u001b[0m\n\u001b[1;32m    734\u001b[0m             use_maps\u001b[39m.\u001b[39mupdate(\n\u001b[1;32m    735\u001b[0m                 {p: q \u001b[39mfor\u001b[39;00m p, q \u001b[39min\u001b[39;00m v\u001b[39m.\u001b[39mexpr_to_alias\u001b[39m.\u001b[39mitems() \u001b[39mif\u001b[39;00m counts[p] \u001b[39m<\u001b[39m \u001b[39m2\u001b[39m}\n\u001b[1;32m    736\u001b[0m             )\n\u001b[1;32m    738\u001b[0m     \u001b[39mself\u001b[39m\u001b[39m.\u001b[39malias_maps_to_use \u001b[39m=\u001b[39m use_maps\n\u001b[0;32m--> 740\u001b[0m res \u001b[39m=\u001b[39m \u001b[39mself\u001b[39;49m\u001b[39m.\u001b[39;49mdo_resolve_with_resolved_children(\n\u001b[1;32m    741\u001b[0m     logical_plan, resolved_children, df_aliased_col_name_to_real_col_name\n\u001b[1;32m    742\u001b[0m )\n\u001b[1;32m    743\u001b[0m res\u001b[39m.\u001b[39mdf_aliased_col_name_to_real_col_name\u001b[39m.\u001b[39mupdate(\n\u001b[1;32m    744\u001b[0m     df_aliased_col_name_to_real_col_name\n\u001b[1;32m    745\u001b[0m )\n\u001b[1;32m    746\u001b[0m \u001b[39mreturn\u001b[39;00m res\n",
      "File \u001b[0;32m~/opt/anaconda3/envs/pysnowpark_ml_tpcds/lib/python3.9/site-packages/snowflake/snowpark/_internal/analyzer/analyzer.py:900\u001b[0m, in \u001b[0;36mAnalyzer.do_resolve_with_resolved_children\u001b[0;34m(self, logical_plan, resolved_children, df_aliased_col_name_to_real_col_name)\u001b[0m\n\u001b[1;32m    897\u001b[0m     \u001b[39mreturn\u001b[39;00m \u001b[39mself\u001b[39m\u001b[39m.\u001b[39mplan_builder\u001b[39m.\u001b[39mtable(logical_plan\u001b[39m.\u001b[39mname)\n\u001b[1;32m    899\u001b[0m \u001b[39mif\u001b[39;00m \u001b[39misinstance\u001b[39m(logical_plan, SnowflakeCreateTable):\n\u001b[0;32m--> 900\u001b[0m     \u001b[39mreturn\u001b[39;00m \u001b[39mself\u001b[39;49m\u001b[39m.\u001b[39;49mplan_builder\u001b[39m.\u001b[39;49msave_as_table(\n\u001b[1;32m    901\u001b[0m         logical_plan\u001b[39m.\u001b[39;49mtable_name,\n\u001b[1;32m    902\u001b[0m         logical_plan\u001b[39m.\u001b[39;49mcolumn_names,\n\u001b[1;32m    903\u001b[0m         logical_plan\u001b[39m.\u001b[39;49mmode,\n\u001b[1;32m    904\u001b[0m         logical_plan\u001b[39m.\u001b[39;49mtable_type,\n\u001b[1;32m    905\u001b[0m         [\n\u001b[1;32m    906\u001b[0m             \u001b[39mself\u001b[39;49m\u001b[39m.\u001b[39;49manalyze(x, df_aliased_col_name_to_real_col_name)\n\u001b[1;32m    907\u001b[0m             \u001b[39mfor\u001b[39;49;00m x \u001b[39min\u001b[39;49;00m logical_plan\u001b[39m.\u001b[39;49mclustering_exprs\n\u001b[1;32m    908\u001b[0m         ],\n\u001b[1;32m    909\u001b[0m         resolved_children[logical_plan\u001b[39m.\u001b[39;49mchildren[\u001b[39m0\u001b[39;49m]],\n\u001b[1;32m    910\u001b[0m     )\n\u001b[1;32m    912\u001b[0m \u001b[39mif\u001b[39;00m \u001b[39misinstance\u001b[39m(logical_plan, Limit):\n\u001b[1;32m    913\u001b[0m     on_top_of_order_by \u001b[39m=\u001b[39m \u001b[39misinstance\u001b[39m(\n\u001b[1;32m    914\u001b[0m         logical_plan\u001b[39m.\u001b[39mchild, SnowflakePlan\n\u001b[1;32m    915\u001b[0m     ) \u001b[39mand\u001b[39;00m \u001b[39misinstance\u001b[39m(logical_plan\u001b[39m.\u001b[39mchild\u001b[39m.\u001b[39msource_plan, Sort)\n",
      "File \u001b[0;32m~/opt/anaconda3/envs/pysnowpark_ml_tpcds/lib/python3.9/site-packages/snowflake/snowpark/_internal/analyzer/snowflake_plan.py:566\u001b[0m, in \u001b[0;36mSnowflakePlanBuilder.save_as_table\u001b[0;34m(self, table_name, column_names, mode, table_type, clustering_keys, child)\u001b[0m\n\u001b[1;32m    556\u001b[0m \u001b[39mdef\u001b[39;00m \u001b[39msave_as_table\u001b[39m(\n\u001b[1;32m    557\u001b[0m     \u001b[39mself\u001b[39m,\n\u001b[1;32m    558\u001b[0m     table_name: Iterable[\u001b[39mstr\u001b[39m],\n\u001b[0;32m   (...)\u001b[0m\n\u001b[1;32m    563\u001b[0m     child: SnowflakePlan,\n\u001b[1;32m    564\u001b[0m ) \u001b[39m-\u001b[39m\u001b[39m>\u001b[39m SnowflakePlan:\n\u001b[1;32m    565\u001b[0m     full_table_name \u001b[39m=\u001b[39m \u001b[39m\"\u001b[39m\u001b[39m.\u001b[39m\u001b[39m\"\u001b[39m\u001b[39m.\u001b[39mjoin(table_name)\n\u001b[0;32m--> 566\u001b[0m     column_definition \u001b[39m=\u001b[39m attribute_to_schema_string(child\u001b[39m.\u001b[39;49mattributes)\n\u001b[1;32m    568\u001b[0m     \u001b[39mdef\u001b[39;00m \u001b[39mget_create_and_insert_plan\u001b[39m(child: SnowflakePlan, replace\u001b[39m=\u001b[39m\u001b[39mFalse\u001b[39;00m, error\u001b[39m=\u001b[39m\u001b[39mTrue\u001b[39;00m):\n\u001b[1;32m    569\u001b[0m         create_table \u001b[39m=\u001b[39m create_table_statement(\n\u001b[1;32m    570\u001b[0m             full_table_name,\n\u001b[1;32m    571\u001b[0m             column_definition,\n\u001b[0;32m   (...)\u001b[0m\n\u001b[1;32m    575\u001b[0m             clustering_key\u001b[39m=\u001b[39mclustering_keys,\n\u001b[1;32m    576\u001b[0m         )\n",
      "File \u001b[0;32m~/opt/anaconda3/envs/pysnowpark_ml_tpcds/lib/python3.9/functools.py:993\u001b[0m, in \u001b[0;36mcached_property.__get__\u001b[0;34m(self, instance, owner)\u001b[0m\n\u001b[1;32m    991\u001b[0m val \u001b[39m=\u001b[39m cache\u001b[39m.\u001b[39mget(\u001b[39mself\u001b[39m\u001b[39m.\u001b[39mattrname, _NOT_FOUND)\n\u001b[1;32m    992\u001b[0m \u001b[39mif\u001b[39;00m val \u001b[39mis\u001b[39;00m _NOT_FOUND:\n\u001b[0;32m--> 993\u001b[0m     val \u001b[39m=\u001b[39m \u001b[39mself\u001b[39;49m\u001b[39m.\u001b[39;49mfunc(instance)\n\u001b[1;32m    994\u001b[0m     \u001b[39mtry\u001b[39;00m:\n\u001b[1;32m    995\u001b[0m         cache[\u001b[39mself\u001b[39m\u001b[39m.\u001b[39mattrname] \u001b[39m=\u001b[39m val\n",
      "File \u001b[0;32m~/opt/anaconda3/envs/pysnowpark_ml_tpcds/lib/python3.9/site-packages/snowflake/snowpark/_internal/analyzer/snowflake_plan.py:250\u001b[0m, in \u001b[0;36mSnowflakePlan.attributes\u001b[0;34m(self)\u001b[0m\n\u001b[1;32m    248\u001b[0m \u001b[39m@cached_property\u001b[39m\n\u001b[1;32m    249\u001b[0m \u001b[39mdef\u001b[39;00m \u001b[39mattributes\u001b[39m(\u001b[39mself\u001b[39m) \u001b[39m-\u001b[39m\u001b[39m>\u001b[39m List[Attribute]:\n\u001b[0;32m--> 250\u001b[0m     output \u001b[39m=\u001b[39m analyze_attributes(\u001b[39mself\u001b[39;49m\u001b[39m.\u001b[39;49mschema_query, \u001b[39mself\u001b[39;49m\u001b[39m.\u001b[39;49msession)\n\u001b[1;32m    251\u001b[0m     \u001b[39mself\u001b[39m\u001b[39m.\u001b[39mschema_query \u001b[39m=\u001b[39m schema_value_statement(output)\n\u001b[1;32m    252\u001b[0m     \u001b[39mreturn\u001b[39;00m output\n",
      "File \u001b[0;32m~/opt/anaconda3/envs/pysnowpark_ml_tpcds/lib/python3.9/site-packages/snowflake/snowpark/_internal/analyzer/schema_utils.py:82\u001b[0m, in \u001b[0;36manalyze_attributes\u001b[0;34m(sql, session)\u001b[0m\n\u001b[1;32m     79\u001b[0m     session\u001b[39m.\u001b[39m_run_query(sql)\n\u001b[1;32m     80\u001b[0m     \u001b[39mreturn\u001b[39;00m convert_result_meta_to_attribute(session\u001b[39m.\u001b[39m_conn\u001b[39m.\u001b[39m_cursor\u001b[39m.\u001b[39mdescription)\n\u001b[0;32m---> 82\u001b[0m \u001b[39mreturn\u001b[39;00m session\u001b[39m.\u001b[39;49m_get_result_attributes(sql)\n",
      "File \u001b[0;32m~/opt/anaconda3/envs/pysnowpark_ml_tpcds/lib/python3.9/site-packages/snowflake/snowpark/session.py:1746\u001b[0m, in \u001b[0;36mSession._get_result_attributes\u001b[0;34m(self, query)\u001b[0m\n\u001b[1;32m   1745\u001b[0m \u001b[39mdef\u001b[39;00m \u001b[39m_get_result_attributes\u001b[39m(\u001b[39mself\u001b[39m, query: \u001b[39mstr\u001b[39m) \u001b[39m-\u001b[39m\u001b[39m>\u001b[39m List[Attribute]:\n\u001b[0;32m-> 1746\u001b[0m     \u001b[39mreturn\u001b[39;00m \u001b[39mself\u001b[39;49m\u001b[39m.\u001b[39;49m_conn\u001b[39m.\u001b[39;49mget_result_attributes(query)\n",
      "File \u001b[0;32m~/opt/anaconda3/envs/pysnowpark_ml_tpcds/lib/python3.9/site-packages/snowflake/snowpark/_internal/analyzer/snowflake_plan.py:111\u001b[0m, in \u001b[0;36mSnowflakePlan.Decorator.wrap_exception.<locals>.wrap\u001b[0;34m(*args, **kwargs)\u001b[0m\n\u001b[1;32m    109\u001b[0m \u001b[39mdef\u001b[39;00m \u001b[39mwrap\u001b[39m(\u001b[39m*\u001b[39margs, \u001b[39m*\u001b[39m\u001b[39m*\u001b[39mkwargs):\n\u001b[1;32m    110\u001b[0m     \u001b[39mtry\u001b[39;00m:\n\u001b[0;32m--> 111\u001b[0m         \u001b[39mreturn\u001b[39;00m func(\u001b[39m*\u001b[39;49margs, \u001b[39m*\u001b[39;49m\u001b[39m*\u001b[39;49mkwargs)\n\u001b[1;32m    112\u001b[0m     \u001b[39mexcept\u001b[39;00m snowflake\u001b[39m.\u001b[39mconnector\u001b[39m.\u001b[39merrors\u001b[39m.\u001b[39mProgrammingError \u001b[39mas\u001b[39;00m e:\n\u001b[1;32m    113\u001b[0m         query \u001b[39m=\u001b[39m \u001b[39mNone\u001b[39;00m\n",
      "File \u001b[0;32m~/opt/anaconda3/envs/pysnowpark_ml_tpcds/lib/python3.9/site-packages/snowflake/snowpark/_internal/server_connection.py:206\u001b[0m, in \u001b[0;36mServerConnection.get_result_attributes\u001b[0;34m(self, query)\u001b[0m\n\u001b[1;32m    204\u001b[0m \u001b[39m@SnowflakePlan\u001b[39m\u001b[39m.\u001b[39mDecorator\u001b[39m.\u001b[39mwrap_exception\n\u001b[1;32m    205\u001b[0m \u001b[39mdef\u001b[39;00m \u001b[39mget_result_attributes\u001b[39m(\u001b[39mself\u001b[39m, query: \u001b[39mstr\u001b[39m) \u001b[39m-\u001b[39m\u001b[39m>\u001b[39m List[Attribute]:\n\u001b[0;32m--> 206\u001b[0m     \u001b[39mreturn\u001b[39;00m convert_result_meta_to_attribute(\u001b[39mself\u001b[39;49m\u001b[39m.\u001b[39;49m_cursor\u001b[39m.\u001b[39;49mdescribe(query))\n",
      "File \u001b[0;32m~/opt/anaconda3/envs/pysnowpark_ml_tpcds/lib/python3.9/site-packages/snowflake/connector/cursor.py:959\u001b[0m, in \u001b[0;36mSnowflakeCursor.describe\u001b[0;34m(self, *args, **kwargs)\u001b[0m\n\u001b[1;32m    950\u001b[0m \u001b[39m\u001b[39m\u001b[39m\"\"\"Obtain the schema of the result without executing the query.\u001b[39;00m\n\u001b[1;32m    951\u001b[0m \n\u001b[1;32m    952\u001b[0m \u001b[39mThis function takes the same arguments as execute, please refer to that function\u001b[39;00m\n\u001b[0;32m   (...)\u001b[0m\n\u001b[1;32m    956\u001b[0m \u001b[39m    The schema of the result.\u001b[39;00m\n\u001b[1;32m    957\u001b[0m \u001b[39m\"\"\"\u001b[39;00m\n\u001b[1;32m    958\u001b[0m kwargs[\u001b[39m\"\u001b[39m\u001b[39m_describe_only\u001b[39m\u001b[39m\"\u001b[39m] \u001b[39m=\u001b[39m kwargs[\u001b[39m\"\u001b[39m\u001b[39m_is_internal\u001b[39m\u001b[39m\"\u001b[39m] \u001b[39m=\u001b[39m \u001b[39mTrue\u001b[39;00m\n\u001b[0;32m--> 959\u001b[0m \u001b[39mself\u001b[39;49m\u001b[39m.\u001b[39;49mexecute(\u001b[39m*\u001b[39;49margs, \u001b[39m*\u001b[39;49m\u001b[39m*\u001b[39;49mkwargs)\n\u001b[1;32m    960\u001b[0m \u001b[39mreturn\u001b[39;00m \u001b[39mself\u001b[39m\u001b[39m.\u001b[39m_description\n",
      "File \u001b[0;32m~/opt/anaconda3/envs/pysnowpark_ml_tpcds/lib/python3.9/site-packages/snowflake/connector/cursor.py:767\u001b[0m, in \u001b[0;36mSnowflakeCursor.execute\u001b[0;34m(self, command, params, _bind_stage, timeout, _exec_async, _no_retry, _do_reset, _put_callback, _put_azure_callback, _put_callback_output_stream, _get_callback, _get_azure_callback, _get_callback_output_stream, _show_progress_bar, _statement_params, _is_internal, _describe_only, _no_results, _is_put_get, _raise_put_get_error, _force_put_overwrite, _skip_upload_on_content_match, file_stream, num_statements)\u001b[0m\n\u001b[1;32m    765\u001b[0m logger\u001b[39m.\u001b[39mdebug(\u001b[39m\"\u001b[39m\u001b[39mexecuting SQL/command\u001b[39m\u001b[39m\"\u001b[39m)\n\u001b[1;32m    766\u001b[0m \u001b[39mif\u001b[39;00m \u001b[39mself\u001b[39m\u001b[39m.\u001b[39mis_closed():\n\u001b[0;32m--> 767\u001b[0m     Error\u001b[39m.\u001b[39;49merrorhandler_wrapper(\n\u001b[1;32m    768\u001b[0m         \u001b[39mself\u001b[39;49m\u001b[39m.\u001b[39;49mconnection,\n\u001b[1;32m    769\u001b[0m         \u001b[39mself\u001b[39;49m,\n\u001b[1;32m    770\u001b[0m         InterfaceError,\n\u001b[1;32m    771\u001b[0m         {\u001b[39m\"\u001b[39;49m\u001b[39mmsg\u001b[39;49m\u001b[39m\"\u001b[39;49m: \u001b[39m\"\u001b[39;49m\u001b[39mCursor is closed in execute.\u001b[39;49m\u001b[39m\"\u001b[39;49m, \u001b[39m\"\u001b[39;49m\u001b[39merrno\u001b[39;49m\u001b[39m\"\u001b[39;49m: ER_CURSOR_IS_CLOSED},\n\u001b[1;32m    772\u001b[0m     )\n\u001b[1;32m    774\u001b[0m \u001b[39mif\u001b[39;00m _do_reset:\n\u001b[1;32m    775\u001b[0m     \u001b[39mself\u001b[39m\u001b[39m.\u001b[39mreset()\n",
      "File \u001b[0;32m~/opt/anaconda3/envs/pysnowpark_ml_tpcds/lib/python3.9/site-packages/snowflake/connector/errors.py:290\u001b[0m, in \u001b[0;36mError.errorhandler_wrapper\u001b[0;34m(connection, cursor, error_class, error_value)\u001b[0m\n\u001b[1;32m    267\u001b[0m \u001b[39m@staticmethod\u001b[39m\n\u001b[1;32m    268\u001b[0m \u001b[39mdef\u001b[39;00m \u001b[39merrorhandler_wrapper\u001b[39m(\n\u001b[1;32m    269\u001b[0m     connection: SnowflakeConnection \u001b[39m|\u001b[39m \u001b[39mNone\u001b[39;00m,\n\u001b[0;32m   (...)\u001b[0m\n\u001b[1;32m    272\u001b[0m     error_value: \u001b[39mdict\u001b[39m[\u001b[39mstr\u001b[39m, Any],\n\u001b[1;32m    273\u001b[0m ) \u001b[39m-\u001b[39m\u001b[39m>\u001b[39m \u001b[39mNone\u001b[39;00m:\n\u001b[1;32m    274\u001b[0m \u001b[39m    \u001b[39m\u001b[39m\"\"\"Error handler wrapper that calls the errorhandler method.\u001b[39;00m\n\u001b[1;32m    275\u001b[0m \n\u001b[1;32m    276\u001b[0m \u001b[39m    Args:\u001b[39;00m\n\u001b[0;32m   (...)\u001b[0m\n\u001b[1;32m    287\u001b[0m \u001b[39m        exception to the first handler in that order.\u001b[39;00m\n\u001b[1;32m    288\u001b[0m \u001b[39m    \"\"\"\u001b[39;00m\n\u001b[0;32m--> 290\u001b[0m     handed_over \u001b[39m=\u001b[39m Error\u001b[39m.\u001b[39;49mhand_to_other_handler(\n\u001b[1;32m    291\u001b[0m         connection,\n\u001b[1;32m    292\u001b[0m         cursor,\n\u001b[1;32m    293\u001b[0m         error_class,\n\u001b[1;32m    294\u001b[0m         error_value,\n\u001b[1;32m    295\u001b[0m     )\n\u001b[1;32m    296\u001b[0m     \u001b[39mif\u001b[39;00m \u001b[39mnot\u001b[39;00m handed_over:\n\u001b[1;32m    297\u001b[0m         \u001b[39mraise\u001b[39;00m Error\u001b[39m.\u001b[39merrorhandler_make_exception(\n\u001b[1;32m    298\u001b[0m             error_class,\n\u001b[1;32m    299\u001b[0m             error_value,\n\u001b[1;32m    300\u001b[0m         )\n",
      "File \u001b[0;32m~/opt/anaconda3/envs/pysnowpark_ml_tpcds/lib/python3.9/site-packages/snowflake/connector/errors.py:345\u001b[0m, in \u001b[0;36mError.hand_to_other_handler\u001b[0;34m(connection, cursor, error_class, error_value)\u001b[0m\n\u001b[1;32m    343\u001b[0m \u001b[39mif\u001b[39;00m cursor \u001b[39mis\u001b[39;00m \u001b[39mnot\u001b[39;00m \u001b[39mNone\u001b[39;00m:\n\u001b[1;32m    344\u001b[0m     cursor\u001b[39m.\u001b[39mmessages\u001b[39m.\u001b[39mappend((error_class, error_value))\n\u001b[0;32m--> 345\u001b[0m     cursor\u001b[39m.\u001b[39;49merrorhandler(connection, cursor, error_class, error_value)\n\u001b[1;32m    346\u001b[0m     \u001b[39mreturn\u001b[39;00m \u001b[39mTrue\u001b[39;00m\n\u001b[1;32m    347\u001b[0m \u001b[39melif\u001b[39;00m connection \u001b[39mis\u001b[39;00m \u001b[39mnot\u001b[39;00m \u001b[39mNone\u001b[39;00m:\n",
      "File \u001b[0;32m~/opt/anaconda3/envs/pysnowpark_ml_tpcds/lib/python3.9/site-packages/snowflake/connector/errors.py:221\u001b[0m, in \u001b[0;36mError.default_errorhandler\u001b[0;34m(connection, cursor, error_class, error_value)\u001b[0m\n\u001b[1;32m    219\u001b[0m errno \u001b[39m=\u001b[39m error_value\u001b[39m.\u001b[39mget(\u001b[39m\"\u001b[39m\u001b[39merrno\u001b[39m\u001b[39m\"\u001b[39m)\n\u001b[1;32m    220\u001b[0m done_format_msg \u001b[39m=\u001b[39m error_value\u001b[39m.\u001b[39mget(\u001b[39m\"\u001b[39m\u001b[39mdone_format_msg\u001b[39m\u001b[39m\"\u001b[39m)\n\u001b[0;32m--> 221\u001b[0m \u001b[39mraise\u001b[39;00m error_class(\n\u001b[1;32m    222\u001b[0m     msg\u001b[39m=\u001b[39merror_value\u001b[39m.\u001b[39mget(\u001b[39m\"\u001b[39m\u001b[39mmsg\u001b[39m\u001b[39m\"\u001b[39m),\n\u001b[1;32m    223\u001b[0m     errno\u001b[39m=\u001b[39m\u001b[39mNone\u001b[39;00m \u001b[39mif\u001b[39;00m errno \u001b[39mis\u001b[39;00m \u001b[39mNone\u001b[39;00m \u001b[39melse\u001b[39;00m \u001b[39mint\u001b[39m(errno),\n\u001b[1;32m    224\u001b[0m     sqlstate\u001b[39m=\u001b[39merror_value\u001b[39m.\u001b[39mget(\u001b[39m\"\u001b[39m\u001b[39msqlstate\u001b[39m\u001b[39m\"\u001b[39m),\n\u001b[1;32m    225\u001b[0m     sfqid\u001b[39m=\u001b[39merror_value\u001b[39m.\u001b[39mget(\u001b[39m\"\u001b[39m\u001b[39msfqid\u001b[39m\u001b[39m\"\u001b[39m),\n\u001b[1;32m    226\u001b[0m     query\u001b[39m=\u001b[39merror_value\u001b[39m.\u001b[39mget(\u001b[39m\"\u001b[39m\u001b[39mquery\u001b[39m\u001b[39m\"\u001b[39m),\n\u001b[1;32m    227\u001b[0m     done_format_msg\u001b[39m=\u001b[39m(\n\u001b[1;32m    228\u001b[0m         \u001b[39mNone\u001b[39;00m \u001b[39mif\u001b[39;00m done_format_msg \u001b[39mis\u001b[39;00m \u001b[39mNone\u001b[39;00m \u001b[39melse\u001b[39;00m \u001b[39mbool\u001b[39m(done_format_msg)\n\u001b[1;32m    229\u001b[0m     ),\n\u001b[1;32m    230\u001b[0m     connection\u001b[39m=\u001b[39mconnection,\n\u001b[1;32m    231\u001b[0m     cursor\u001b[39m=\u001b[39mcursor,\n\u001b[1;32m    232\u001b[0m )\n",
      "\u001b[0;31mInterfaceError\u001b[0m: 252006: Cursor is closed in execute."
     ]
    }
   ],
   "source": [
    "snowdf_test = session.table('tpc_TEST')\n",
    "# Predicting with sample dataset\n",
    "sample_data = snowdf_test\n",
    "sample_data.write.mode(\"overwrite\").save_as_table(\"temp_test\")"
   ]
  },
  {
   "cell_type": "code",
   "execution_count": 247,
   "metadata": {},
   "outputs": [],
   "source": [
    "test_sdf = session.table('temp_test')"
   ]
  },
  {
   "cell_type": "markdown",
   "metadata": {},
   "source": [
    "### 5.1 Prepare model to convert to UDF\n",
    "1. Get model in your local environment\n",
    "2. Save the file in your local env. as .joblib file\n",
    "3. Upload the file to Snowflake stage"
   ]
  },
  {
   "cell_type": "code",
   "execution_count": 248,
   "metadata": {},
   "outputs": [],
   "source": [
    "import joblib\n",
    "import cachetools"
   ]
  },
  {
   "cell_type": "code",
   "execution_count": 249,
   "metadata": {},
   "outputs": [
    {
     "data": {
      "text/html": [
       "<style>#sk-container-id-4 {color: black;background-color: white;}#sk-container-id-4 pre{padding: 0;}#sk-container-id-4 div.sk-toggleable {background-color: white;}#sk-container-id-4 label.sk-toggleable__label {cursor: pointer;display: block;width: 100%;margin-bottom: 0;padding: 0.3em;box-sizing: border-box;text-align: center;}#sk-container-id-4 label.sk-toggleable__label-arrow:before {content: \"▸\";float: left;margin-right: 0.25em;color: #696969;}#sk-container-id-4 label.sk-toggleable__label-arrow:hover:before {color: black;}#sk-container-id-4 div.sk-estimator:hover label.sk-toggleable__label-arrow:before {color: black;}#sk-container-id-4 div.sk-toggleable__content {max-height: 0;max-width: 0;overflow: hidden;text-align: left;background-color: #f0f8ff;}#sk-container-id-4 div.sk-toggleable__content pre {margin: 0.2em;color: black;border-radius: 0.25em;background-color: #f0f8ff;}#sk-container-id-4 input.sk-toggleable__control:checked~div.sk-toggleable__content {max-height: 200px;max-width: 100%;overflow: auto;}#sk-container-id-4 input.sk-toggleable__control:checked~label.sk-toggleable__label-arrow:before {content: \"▾\";}#sk-container-id-4 div.sk-estimator input.sk-toggleable__control:checked~label.sk-toggleable__label {background-color: #d4ebff;}#sk-container-id-4 div.sk-label input.sk-toggleable__control:checked~label.sk-toggleable__label {background-color: #d4ebff;}#sk-container-id-4 input.sk-hidden--visually {border: 0;clip: rect(1px 1px 1px 1px);clip: rect(1px, 1px, 1px, 1px);height: 1px;margin: -1px;overflow: hidden;padding: 0;position: absolute;width: 1px;}#sk-container-id-4 div.sk-estimator {font-family: monospace;background-color: #f0f8ff;border: 1px dotted black;border-radius: 0.25em;box-sizing: border-box;margin-bottom: 0.5em;}#sk-container-id-4 div.sk-estimator:hover {background-color: #d4ebff;}#sk-container-id-4 div.sk-parallel-item::after {content: \"\";width: 100%;border-bottom: 1px solid gray;flex-grow: 1;}#sk-container-id-4 div.sk-label:hover label.sk-toggleable__label {background-color: #d4ebff;}#sk-container-id-4 div.sk-serial::before {content: \"\";position: absolute;border-left: 1px solid gray;box-sizing: border-box;top: 0;bottom: 0;left: 50%;z-index: 0;}#sk-container-id-4 div.sk-serial {display: flex;flex-direction: column;align-items: center;background-color: white;padding-right: 0.2em;padding-left: 0.2em;position: relative;}#sk-container-id-4 div.sk-item {position: relative;z-index: 1;}#sk-container-id-4 div.sk-parallel {display: flex;align-items: stretch;justify-content: center;background-color: white;position: relative;}#sk-container-id-4 div.sk-item::before, #sk-container-id-4 div.sk-parallel-item::before {content: \"\";position: absolute;border-left: 1px solid gray;box-sizing: border-box;top: 0;bottom: 0;left: 50%;z-index: -1;}#sk-container-id-4 div.sk-parallel-item {display: flex;flex-direction: column;z-index: 1;position: relative;background-color: white;}#sk-container-id-4 div.sk-parallel-item:first-child::after {align-self: flex-end;width: 50%;}#sk-container-id-4 div.sk-parallel-item:last-child::after {align-self: flex-start;width: 50%;}#sk-container-id-4 div.sk-parallel-item:only-child::after {width: 0;}#sk-container-id-4 div.sk-dashed-wrapped {border: 1px dashed gray;margin: 0 0.4em 0.5em 0.4em;box-sizing: border-box;padding-bottom: 0.4em;background-color: white;}#sk-container-id-4 div.sk-label label {font-family: monospace;font-weight: bold;display: inline-block;line-height: 1.2em;}#sk-container-id-4 div.sk-label-container {text-align: center;}#sk-container-id-4 div.sk-container {/* jupyter's `normalize.less` sets `[hidden] { display: none; }` but bootstrap.min.css set `[hidden] { display: none !important; }` so we also need the `!important` here to be able to override the default hidden behavior on the sphinx rendered scikit-learn.org. See: https://github.com/scikit-learn/scikit-learn/issues/21755 */display: inline-block !important;position: relative;}#sk-container-id-4 div.sk-text-repr-fallback {display: none;}</style><div id=\"sk-container-id-4\" class=\"sk-top-container\"><div class=\"sk-text-repr-fallback\"><pre>XGBRegressor(base_score=None, booster=None, callbacks=None,\n",
       "             colsample_bylevel=None, colsample_bynode=None,\n",
       "             colsample_bytree=None, early_stopping_rounds=None,\n",
       "             enable_categorical=False, eval_metric=None, feature_types=None,\n",
       "             gamma=None, gpu_id=None, grow_policy=None, importance_type=None,\n",
       "             interaction_constraints=None, learning_rate=None, max_bin=None,\n",
       "             max_cat_threshold=None, max_cat_to_onehot=None,\n",
       "             max_delta_step=None, max_depth=None, max_leaves=None,\n",
       "             min_child_weight=None, missing=nan, monotone_constraints=None,\n",
       "             n_estimators=100, n_jobs=None, num_parallel_tree=None,\n",
       "             predictor=None, random_state=123, ...)</pre><b>In a Jupyter environment, please rerun this cell to show the HTML representation or trust the notebook. <br />On GitHub, the HTML representation is unable to render, please try loading this page with nbviewer.org.</b></div><div class=\"sk-container\" hidden><div class=\"sk-item\"><div class=\"sk-estimator sk-toggleable\"><input class=\"sk-toggleable__control sk-hidden--visually\" id=\"sk-estimator-id-4\" type=\"checkbox\" checked><label for=\"sk-estimator-id-4\" class=\"sk-toggleable__label sk-toggleable__label-arrow\">XGBRegressor</label><div class=\"sk-toggleable__content\"><pre>XGBRegressor(base_score=None, booster=None, callbacks=None,\n",
       "             colsample_bylevel=None, colsample_bynode=None,\n",
       "             colsample_bytree=None, early_stopping_rounds=None,\n",
       "             enable_categorical=False, eval_metric=None, feature_types=None,\n",
       "             gamma=None, gpu_id=None, grow_policy=None, importance_type=None,\n",
       "             interaction_constraints=None, learning_rate=None, max_bin=None,\n",
       "             max_cat_threshold=None, max_cat_to_onehot=None,\n",
       "             max_delta_step=None, max_depth=None, max_leaves=None,\n",
       "             min_child_weight=None, missing=nan, monotone_constraints=None,\n",
       "             n_estimators=100, n_jobs=None, num_parallel_tree=None,\n",
       "             predictor=None, random_state=123, ...)</pre></div></div></div></div></div>"
      ],
      "text/plain": [
       "XGBRegressor(base_score=None, booster=None, callbacks=None,\n",
       "             colsample_bylevel=None, colsample_bynode=None,\n",
       "             colsample_bytree=None, early_stopping_rounds=None,\n",
       "             enable_categorical=False, eval_metric=None, feature_types=None,\n",
       "             gamma=None, gpu_id=None, grow_policy=None, importance_type=None,\n",
       "             interaction_constraints=None, learning_rate=None, max_bin=None,\n",
       "             max_cat_threshold=None, max_cat_to_onehot=None,\n",
       "             max_delta_step=None, max_depth=None, max_leaves=None,\n",
       "             min_child_weight=None, missing=nan, monotone_constraints=None,\n",
       "             n_estimators=100, n_jobs=None, num_parallel_tree=None,\n",
       "             predictor=None, random_state=123, ...)"
      ]
     },
     "execution_count": 249,
     "metadata": {},
     "output_type": "execute_result"
    }
   ],
   "source": [
    "xgb_file = xgbmodel.to_xgboost()\n",
    "xgb_file"
   ]
  },
  {
   "cell_type": "code",
   "execution_count": 250,
   "metadata": {},
   "outputs": [
    {
     "data": {
      "text/plain": [
       "['model.joblib.gz']"
      ]
     },
     "execution_count": 250,
     "metadata": {},
     "output_type": "execute_result"
    }
   ],
   "source": [
    "MODEL_FILE = 'model.joblib.gz'\n",
    "joblib.dump(xgb_file, MODEL_FILE) # we are just pickling it locally first"
   ]
  },
  {
   "cell_type": "code",
   "execution_count": 251,
   "metadata": {},
   "outputs": [
    {
     "data": {
      "text/plain": [
       "[PutResult(source='model.joblib.gz', target='model.joblib.gz', source_size=140974, target_size=140976, source_compression='GZIP', target_compression='GZIP', status='UPLOADED', message='')]"
      ]
     },
     "execution_count": 251,
     "metadata": {},
     "output_type": "execute_result"
    }
   ],
   "source": [
    "# You can also save the pickled object into the stage we created earlier\n",
    "session.file.put(MODEL_FILE, \"@ML_MODELS\", auto_compress=False, overwrite=True)"
   ]
  },
  {
   "cell_type": "markdown",
   "metadata": {},
   "source": [
    "### 5.2 Create UDF for future reference\n"
   ]
  },
  {
   "cell_type": "code",
   "execution_count": 252,
   "metadata": {},
   "outputs": [],
   "source": [
    "from snowflake.snowpark.functions import udf\n",
    "import snowflake.snowpark.types as T"
   ]
  },
  {
   "cell_type": "code",
   "execution_count": 253,
   "metadata": {},
   "outputs": [],
   "source": [
    "# Define a simple scoring function\n",
    "from cachetools import cached\n",
    "\n",
    "@cached(cache={})\n",
    "def load_model(model_path: str) -> object:\n",
    "    from joblib import load\n",
    "    model = load(model_path)\n",
    "    return model\n",
    "\n",
    "def udf_score_xgboost_model_vec_cached(df: pd.DataFrame) -> pd.Series:\n",
    "    import os\n",
    "    import sys\n",
    "    # file-dependencies of UDFs are available in snowflake_import_directory\n",
    "    IMPORT_DIRECTORY_NAME = \"snowflake_import_directory\"\n",
    "    import_dir = sys._xoptions[IMPORT_DIRECTORY_NAME]\n",
    "    model_name = 'model.joblib.gz'\n",
    "    model = load_model(import_dir+model_name)\n",
    "    df.columns = feature_cols\n",
    "    scored_data = pd.Series(model.predict(df))\n",
    "    return scored_data"
   ]
  },
  {
   "cell_type": "code",
   "execution_count": 254,
   "metadata": {},
   "outputs": [],
   "source": [
    "# Register UDF\n",
    "udf_clv = session.udf.register(func=udf_score_xgboost_model_vec_cached, \n",
    "                               name=\"TPCDS_PREDICT_CLV\", \n",
    "                               stage_location='@ML_MODELS',\n",
    "                               input_types=[T.FloatType()]*len(feature_cols),\n",
    "                               return_type = T.FloatType(),\n",
    "                               replace=True, \n",
    "                               is_permanent=True, \n",
    "                               imports=['@ML_MODELS/model.joblib.gz'],\n",
    "                               packages=['pandas',\n",
    "                                         'xgboost',\n",
    "                                         'joblib',\n",
    "                                         'cachetools'], \n",
    "                               session=session)"
   ]
  },
  {
   "cell_type": "markdown",
   "metadata": {},
   "source": [
    "### 5.3 Extra Stuff"
   ]
  },
  {
   "cell_type": "markdown",
   "metadata": {},
   "source": [
    "### Inference using UDF Created right here\n",
    "\n",
    "Note we are using `udf_clv` that was defined earlier."
   ]
  },
  {
   "cell_type": "code",
   "execution_count": 255,
   "metadata": {},
   "outputs": [
    {
     "data": {
      "text/html": [
       "<div>\n",
       "<style scoped>\n",
       "    .dataframe tbody tr th:only-of-type {\n",
       "        vertical-align: middle;\n",
       "    }\n",
       "\n",
       "    .dataframe tbody tr th {\n",
       "        vertical-align: top;\n",
       "    }\n",
       "\n",
       "    .dataframe thead th {\n",
       "        text-align: right;\n",
       "    }\n",
       "</style>\n",
       "<table border=\"1\" class=\"dataframe\">\n",
       "  <thead>\n",
       "    <tr style=\"text-align: right;\">\n",
       "      <th></th>\n",
       "      <th>CD_GENDER_F</th>\n",
       "      <th>CD_GENDER_M</th>\n",
       "      <th>CD_MARITAL_STATUS_D</th>\n",
       "      <th>CD_MARITAL_STATUS_M</th>\n",
       "      <th>CD_MARITAL_STATUS_S</th>\n",
       "      <th>CD_MARITAL_STATUS_U</th>\n",
       "      <th>CD_MARITAL_STATUS_W</th>\n",
       "      <th>CD_CREDIT_RATING_GOOD</th>\n",
       "      <th>CD_CREDIT_RATING_HIGHRISK</th>\n",
       "      <th>CD_CREDIT_RATING_LOWRISK</th>\n",
       "      <th>...</th>\n",
       "      <th>CD_EDUCATION_STATUS_4YRDEGREE</th>\n",
       "      <th>CD_EDUCATION_STATUS_ADVANCEDDEGREE</th>\n",
       "      <th>CD_EDUCATION_STATUS_COLLEGE</th>\n",
       "      <th>CD_EDUCATION_STATUS_PRIMARY</th>\n",
       "      <th>CD_EDUCATION_STATUS_SECONDARY</th>\n",
       "      <th>CD_EDUCATION_STATUS_UNKNOWN</th>\n",
       "      <th>C_BIRTH_YEAR</th>\n",
       "      <th>CD_DEP_COUNT</th>\n",
       "      <th>TOTAL_SALES</th>\n",
       "      <th>PREDICTED</th>\n",
       "    </tr>\n",
       "  </thead>\n",
       "  <tbody>\n",
       "    <tr>\n",
       "      <th>0</th>\n",
       "      <td>0.0</td>\n",
       "      <td>1.0</td>\n",
       "      <td>0.0</td>\n",
       "      <td>0.0</td>\n",
       "      <td>0.0</td>\n",
       "      <td>1.0</td>\n",
       "      <td>0.0</td>\n",
       "      <td>1.0</td>\n",
       "      <td>0.0</td>\n",
       "      <td>0.0</td>\n",
       "      <td>...</td>\n",
       "      <td>0.0</td>\n",
       "      <td>0.0</td>\n",
       "      <td>0.0</td>\n",
       "      <td>0.0</td>\n",
       "      <td>0.0</td>\n",
       "      <td>0.0</td>\n",
       "      <td>1991</td>\n",
       "      <td>0</td>\n",
       "      <td>28104.85</td>\n",
       "      <td>32381.310547</td>\n",
       "    </tr>\n",
       "    <tr>\n",
       "      <th>1</th>\n",
       "      <td>0.0</td>\n",
       "      <td>1.0</td>\n",
       "      <td>0.0</td>\n",
       "      <td>0.0</td>\n",
       "      <td>0.0</td>\n",
       "      <td>1.0</td>\n",
       "      <td>0.0</td>\n",
       "      <td>1.0</td>\n",
       "      <td>0.0</td>\n",
       "      <td>0.0</td>\n",
       "      <td>...</td>\n",
       "      <td>0.0</td>\n",
       "      <td>0.0</td>\n",
       "      <td>0.0</td>\n",
       "      <td>0.0</td>\n",
       "      <td>0.0</td>\n",
       "      <td>0.0</td>\n",
       "      <td>1936</td>\n",
       "      <td>0</td>\n",
       "      <td>29045.76</td>\n",
       "      <td>32385.757812</td>\n",
       "    </tr>\n",
       "  </tbody>\n",
       "</table>\n",
       "<p>2 rows × 22 columns</p>\n",
       "</div>"
      ],
      "text/plain": [
       "   CD_GENDER_F  CD_GENDER_M  CD_MARITAL_STATUS_D  CD_MARITAL_STATUS_M  \\\n",
       "0          0.0          1.0                  0.0                  0.0   \n",
       "1          0.0          1.0                  0.0                  0.0   \n",
       "\n",
       "   CD_MARITAL_STATUS_S  CD_MARITAL_STATUS_U  CD_MARITAL_STATUS_W  \\\n",
       "0                  0.0                  1.0                  0.0   \n",
       "1                  0.0                  1.0                  0.0   \n",
       "\n",
       "   CD_CREDIT_RATING_GOOD  CD_CREDIT_RATING_HIGHRISK  CD_CREDIT_RATING_LOWRISK  \\\n",
       "0                    1.0                        0.0                       0.0   \n",
       "1                    1.0                        0.0                       0.0   \n",
       "\n",
       "   ...  CD_EDUCATION_STATUS_4YRDEGREE  CD_EDUCATION_STATUS_ADVANCEDDEGREE  \\\n",
       "0  ...                            0.0                                 0.0   \n",
       "1  ...                            0.0                                 0.0   \n",
       "\n",
       "   CD_EDUCATION_STATUS_COLLEGE  CD_EDUCATION_STATUS_PRIMARY  \\\n",
       "0                          0.0                          0.0   \n",
       "1                          0.0                          0.0   \n",
       "\n",
       "   CD_EDUCATION_STATUS_SECONDARY  CD_EDUCATION_STATUS_UNKNOWN  C_BIRTH_YEAR  \\\n",
       "0                            0.0                          0.0          1991   \n",
       "1                            0.0                          0.0          1936   \n",
       "\n",
       "   CD_DEP_COUNT  TOTAL_SALES     PREDICTED  \n",
       "0             0     28104.85  32381.310547  \n",
       "1             0     29045.76  32385.757812  \n",
       "\n",
       "[2 rows x 22 columns]"
      ]
     },
     "execution_count": 255,
     "metadata": {},
     "output_type": "execute_result"
    }
   ],
   "source": [
    "test_sdf_w_preds = test_sdf.with_column('PREDICTED', udf_clv(*feature_cols))\n",
    "test_sdf_w_preds.limit(2).to_pandas()"
   ]
  },
  {
   "cell_type": "markdown",
   "metadata": {},
   "source": [
    "### Inference using UDF Called from Snowflake\n",
    "\n",
    "Notice we are calling the UDF created in snowflake using `F.call_udf()`"
   ]
  },
  {
   "cell_type": "code",
   "execution_count": 256,
   "metadata": {},
   "outputs": [
    {
     "data": {
      "text/html": [
       "<div>\n",
       "<style scoped>\n",
       "    .dataframe tbody tr th:only-of-type {\n",
       "        vertical-align: middle;\n",
       "    }\n",
       "\n",
       "    .dataframe tbody tr th {\n",
       "        vertical-align: top;\n",
       "    }\n",
       "\n",
       "    .dataframe thead th {\n",
       "        text-align: right;\n",
       "    }\n",
       "</style>\n",
       "<table border=\"1\" class=\"dataframe\">\n",
       "  <thead>\n",
       "    <tr style=\"text-align: right;\">\n",
       "      <th></th>\n",
       "      <th>CD_GENDER_F</th>\n",
       "      <th>CD_GENDER_M</th>\n",
       "      <th>CD_MARITAL_STATUS_D</th>\n",
       "      <th>CD_MARITAL_STATUS_M</th>\n",
       "      <th>CD_MARITAL_STATUS_S</th>\n",
       "      <th>CD_MARITAL_STATUS_U</th>\n",
       "      <th>CD_MARITAL_STATUS_W</th>\n",
       "      <th>CD_CREDIT_RATING_GOOD</th>\n",
       "      <th>CD_CREDIT_RATING_HIGHRISK</th>\n",
       "      <th>CD_CREDIT_RATING_LOWRISK</th>\n",
       "      <th>...</th>\n",
       "      <th>CD_EDUCATION_STATUS_4YRDEGREE</th>\n",
       "      <th>CD_EDUCATION_STATUS_ADVANCEDDEGREE</th>\n",
       "      <th>CD_EDUCATION_STATUS_COLLEGE</th>\n",
       "      <th>CD_EDUCATION_STATUS_PRIMARY</th>\n",
       "      <th>CD_EDUCATION_STATUS_SECONDARY</th>\n",
       "      <th>CD_EDUCATION_STATUS_UNKNOWN</th>\n",
       "      <th>C_BIRTH_YEAR</th>\n",
       "      <th>CD_DEP_COUNT</th>\n",
       "      <th>TOTAL_SALES</th>\n",
       "      <th>PREDICTED</th>\n",
       "    </tr>\n",
       "  </thead>\n",
       "  <tbody>\n",
       "    <tr>\n",
       "      <th>0</th>\n",
       "      <td>0.0</td>\n",
       "      <td>1.0</td>\n",
       "      <td>0.0</td>\n",
       "      <td>0.0</td>\n",
       "      <td>0.0</td>\n",
       "      <td>1.0</td>\n",
       "      <td>0.0</td>\n",
       "      <td>1.0</td>\n",
       "      <td>0.0</td>\n",
       "      <td>0.0</td>\n",
       "      <td>...</td>\n",
       "      <td>0.0</td>\n",
       "      <td>0.0</td>\n",
       "      <td>0.0</td>\n",
       "      <td>0.0</td>\n",
       "      <td>0.0</td>\n",
       "      <td>0.0</td>\n",
       "      <td>1991</td>\n",
       "      <td>0</td>\n",
       "      <td>28104.85</td>\n",
       "      <td>32381.310547</td>\n",
       "    </tr>\n",
       "    <tr>\n",
       "      <th>1</th>\n",
       "      <td>0.0</td>\n",
       "      <td>1.0</td>\n",
       "      <td>0.0</td>\n",
       "      <td>0.0</td>\n",
       "      <td>0.0</td>\n",
       "      <td>1.0</td>\n",
       "      <td>0.0</td>\n",
       "      <td>1.0</td>\n",
       "      <td>0.0</td>\n",
       "      <td>0.0</td>\n",
       "      <td>...</td>\n",
       "      <td>0.0</td>\n",
       "      <td>0.0</td>\n",
       "      <td>0.0</td>\n",
       "      <td>0.0</td>\n",
       "      <td>0.0</td>\n",
       "      <td>0.0</td>\n",
       "      <td>1936</td>\n",
       "      <td>0</td>\n",
       "      <td>29045.76</td>\n",
       "      <td>32385.757812</td>\n",
       "    </tr>\n",
       "  </tbody>\n",
       "</table>\n",
       "<p>2 rows × 22 columns</p>\n",
       "</div>"
      ],
      "text/plain": [
       "   CD_GENDER_F  CD_GENDER_M  CD_MARITAL_STATUS_D  CD_MARITAL_STATUS_M  \\\n",
       "0          0.0          1.0                  0.0                  0.0   \n",
       "1          0.0          1.0                  0.0                  0.0   \n",
       "\n",
       "   CD_MARITAL_STATUS_S  CD_MARITAL_STATUS_U  CD_MARITAL_STATUS_W  \\\n",
       "0                  0.0                  1.0                  0.0   \n",
       "1                  0.0                  1.0                  0.0   \n",
       "\n",
       "   CD_CREDIT_RATING_GOOD  CD_CREDIT_RATING_HIGHRISK  CD_CREDIT_RATING_LOWRISK  \\\n",
       "0                    1.0                        0.0                       0.0   \n",
       "1                    1.0                        0.0                       0.0   \n",
       "\n",
       "   ...  CD_EDUCATION_STATUS_4YRDEGREE  CD_EDUCATION_STATUS_ADVANCEDDEGREE  \\\n",
       "0  ...                            0.0                                 0.0   \n",
       "1  ...                            0.0                                 0.0   \n",
       "\n",
       "   CD_EDUCATION_STATUS_COLLEGE  CD_EDUCATION_STATUS_PRIMARY  \\\n",
       "0                          0.0                          0.0   \n",
       "1                          0.0                          0.0   \n",
       "\n",
       "   CD_EDUCATION_STATUS_SECONDARY  CD_EDUCATION_STATUS_UNKNOWN  C_BIRTH_YEAR  \\\n",
       "0                            0.0                          0.0          1991   \n",
       "1                            0.0                          0.0          1936   \n",
       "\n",
       "   CD_DEP_COUNT  TOTAL_SALES     PREDICTED  \n",
       "0             0     28104.85  32381.310547  \n",
       "1             0     29045.76  32385.757812  \n",
       "\n",
       "[2 rows x 22 columns]"
      ]
     },
     "execution_count": 256,
     "metadata": {},
     "output_type": "execute_result"
    }
   ],
   "source": [
    "test_sdf_w_preds = test_sdf.with_column('PREDICTED',F.call_udf(\"TPCDS_PREDICT_CLV\",\n",
    "                                                               [F.col(c) for c in feature_cols]))\n",
    "test_sdf_w_preds.limit(2).to_pandas()\n"
   ]
  },
  {
   "cell_type": "code",
   "execution_count": 258,
   "metadata": {},
   "outputs": [],
   "source": [
    "random_sample = snowdf_test.sample(n=100)\n",
    "sample_data.write.mode(\"overwrite\").save_as_table(\"random_sample_dataset\")"
   ]
  },
  {
   "cell_type": "code",
   "execution_count": 259,
   "metadata": {},
   "outputs": [],
   "source": [
    "test_random = session.table('random_sample_dataset')"
   ]
  },
  {
   "cell_type": "code",
   "execution_count": 260,
   "metadata": {},
   "outputs": [
    {
     "data": {
      "text/html": [
       "<div>\n",
       "<style scoped>\n",
       "    .dataframe tbody tr th:only-of-type {\n",
       "        vertical-align: middle;\n",
       "    }\n",
       "\n",
       "    .dataframe tbody tr th {\n",
       "        vertical-align: top;\n",
       "    }\n",
       "\n",
       "    .dataframe thead th {\n",
       "        text-align: right;\n",
       "    }\n",
       "</style>\n",
       "<table border=\"1\" class=\"dataframe\">\n",
       "  <thead>\n",
       "    <tr style=\"text-align: right;\">\n",
       "      <th></th>\n",
       "      <th>CD_GENDER_F</th>\n",
       "      <th>CD_GENDER_M</th>\n",
       "      <th>CD_MARITAL_STATUS_D</th>\n",
       "      <th>CD_MARITAL_STATUS_M</th>\n",
       "      <th>CD_MARITAL_STATUS_S</th>\n",
       "      <th>CD_MARITAL_STATUS_U</th>\n",
       "      <th>CD_MARITAL_STATUS_W</th>\n",
       "      <th>CD_CREDIT_RATING_GOOD</th>\n",
       "      <th>CD_CREDIT_RATING_HIGHRISK</th>\n",
       "      <th>CD_CREDIT_RATING_LOWRISK</th>\n",
       "      <th>...</th>\n",
       "      <th>CD_EDUCATION_STATUS_4YRDEGREE</th>\n",
       "      <th>CD_EDUCATION_STATUS_ADVANCEDDEGREE</th>\n",
       "      <th>CD_EDUCATION_STATUS_COLLEGE</th>\n",
       "      <th>CD_EDUCATION_STATUS_PRIMARY</th>\n",
       "      <th>CD_EDUCATION_STATUS_SECONDARY</th>\n",
       "      <th>CD_EDUCATION_STATUS_UNKNOWN</th>\n",
       "      <th>C_BIRTH_YEAR</th>\n",
       "      <th>CD_DEP_COUNT</th>\n",
       "      <th>TOTAL_SALES</th>\n",
       "      <th>PREDICTED</th>\n",
       "    </tr>\n",
       "  </thead>\n",
       "  <tbody>\n",
       "    <tr>\n",
       "      <th>0</th>\n",
       "      <td>0.0</td>\n",
       "      <td>1.0</td>\n",
       "      <td>0.0</td>\n",
       "      <td>0.0</td>\n",
       "      <td>0.0</td>\n",
       "      <td>1.0</td>\n",
       "      <td>0.0</td>\n",
       "      <td>1.0</td>\n",
       "      <td>0.0</td>\n",
       "      <td>0.0</td>\n",
       "      <td>...</td>\n",
       "      <td>0.0</td>\n",
       "      <td>0.0</td>\n",
       "      <td>0.0</td>\n",
       "      <td>0.0</td>\n",
       "      <td>0.0</td>\n",
       "      <td>1.0</td>\n",
       "      <td>1991</td>\n",
       "      <td>0</td>\n",
       "      <td>25935.41</td>\n",
       "      <td>32306.429688</td>\n",
       "    </tr>\n",
       "    <tr>\n",
       "      <th>1</th>\n",
       "      <td>0.0</td>\n",
       "      <td>1.0</td>\n",
       "      <td>0.0</td>\n",
       "      <td>0.0</td>\n",
       "      <td>0.0</td>\n",
       "      <td>1.0</td>\n",
       "      <td>0.0</td>\n",
       "      <td>1.0</td>\n",
       "      <td>0.0</td>\n",
       "      <td>0.0</td>\n",
       "      <td>...</td>\n",
       "      <td>0.0</td>\n",
       "      <td>0.0</td>\n",
       "      <td>0.0</td>\n",
       "      <td>0.0</td>\n",
       "      <td>0.0</td>\n",
       "      <td>1.0</td>\n",
       "      <td>1987</td>\n",
       "      <td>0</td>\n",
       "      <td>29660.65</td>\n",
       "      <td>32350.167969</td>\n",
       "    </tr>\n",
       "  </tbody>\n",
       "</table>\n",
       "<p>2 rows × 22 columns</p>\n",
       "</div>"
      ],
      "text/plain": [
       "   CD_GENDER_F  CD_GENDER_M  CD_MARITAL_STATUS_D  CD_MARITAL_STATUS_M  \\\n",
       "0          0.0          1.0                  0.0                  0.0   \n",
       "1          0.0          1.0                  0.0                  0.0   \n",
       "\n",
       "   CD_MARITAL_STATUS_S  CD_MARITAL_STATUS_U  CD_MARITAL_STATUS_W  \\\n",
       "0                  0.0                  1.0                  0.0   \n",
       "1                  0.0                  1.0                  0.0   \n",
       "\n",
       "   CD_CREDIT_RATING_GOOD  CD_CREDIT_RATING_HIGHRISK  CD_CREDIT_RATING_LOWRISK  \\\n",
       "0                    1.0                        0.0                       0.0   \n",
       "1                    1.0                        0.0                       0.0   \n",
       "\n",
       "   ...  CD_EDUCATION_STATUS_4YRDEGREE  CD_EDUCATION_STATUS_ADVANCEDDEGREE  \\\n",
       "0  ...                            0.0                                 0.0   \n",
       "1  ...                            0.0                                 0.0   \n",
       "\n",
       "   CD_EDUCATION_STATUS_COLLEGE  CD_EDUCATION_STATUS_PRIMARY  \\\n",
       "0                          0.0                          0.0   \n",
       "1                          0.0                          0.0   \n",
       "\n",
       "   CD_EDUCATION_STATUS_SECONDARY  CD_EDUCATION_STATUS_UNKNOWN  C_BIRTH_YEAR  \\\n",
       "0                            0.0                          1.0          1991   \n",
       "1                            0.0                          1.0          1987   \n",
       "\n",
       "   CD_DEP_COUNT  TOTAL_SALES     PREDICTED  \n",
       "0             0     25935.41  32306.429688  \n",
       "1             0     29660.65  32350.167969  \n",
       "\n",
       "[2 rows x 22 columns]"
      ]
     },
     "execution_count": 260,
     "metadata": {},
     "output_type": "execute_result"
    }
   ],
   "source": [
    "test_random_prep = test_random.with_column('PREDICTED',F.call_udf(\"TPCDS_PREDICT_CLV\",\n",
    "                                                               [F.col(c) for c in feature_cols]))\n",
    "test_random_prep.limit(2).to_pandas()\n"
   ]
  },
  {
   "cell_type": "code",
   "execution_count": 261,
   "metadata": {},
   "outputs": [],
   "source": [
    "test_sdf_w_preds.write.mode(\"overwrite\").saveAsTable(\"PREDICTIONS_FOR_CLV\") \n"
   ]
  },
  {
   "cell_type": "markdown",
   "metadata": {},
   "source": [
    "# 6.0 Wrap up"
   ]
  },
  {
   "cell_type": "code",
   "execution_count": 16,
   "metadata": {},
   "outputs": [],
   "source": [
    "session.close()"
   ]
  },
  {
   "cell_type": "code",
   "execution_count": null,
   "metadata": {},
   "outputs": [],
   "source": []
  }
 ],
 "metadata": {
  "kernelspec": {
   "display_name": "Python 3 (ipykernel)",
   "language": "python",
   "name": "python3"
  },
  "language_info": {
   "codemirror_mode": {
    "name": "ipython",
    "version": 3
   },
   "file_extension": ".py",
   "mimetype": "text/x-python",
   "name": "python",
   "nbconvert_exporter": "python",
   "pygments_lexer": "ipython3",
   "version": "3.10.13"
  },
  "vscode": {
   "interpreter": {
    "hash": "353961104846001ffa111d7d98923933ef13c251c8e9b3ebc563f652eb6b45f2"
   }
  }
 },
 "nbformat": 4,
 "nbformat_minor": 4
}
